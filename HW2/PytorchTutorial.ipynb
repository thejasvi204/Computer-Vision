{
  "cells": [
    {
      "cell_type": "markdown",
      "id": "4a66859f",
      "metadata": {
        "id": "4a66859f"
      },
      "source": [
        "# PyTorch Introduction\n",
        "Pytorch is an open source machine learning library primarily developed by Meta AI (Facebook AI). Pytorch is a fairly mature project with a robust ecosystem and is now the base for many other deep learning libraries (fast.ai, Pytorch-Lightning, HuggingFace, etc). \n",
        "\n",
        "Pytorch provides user with high-level features for working with Tensors, a unit similar to Numpy ndarrays (syntactically and functionally), and various modules for building neural networks. This notebook will follow along with PyTorch's official [learn the basics](https://pytorch.org/tutorials/beginner/basics/intro.html) tutorial. They also have a nice [series](https://pytorch.org/tutorials/beginner/introyt.html) on youtube for getting started in PyTorch!\n",
        "\n",
        "This notebook was created by Keaton Kraiger."
      ]
    },
    {
      "cell_type": "markdown",
      "id": "resident-charles",
      "metadata": {
        "id": "resident-charles"
      },
      "source": [
        "## Tensors\n",
        "\n",
        "Tensors are a specialized data structure that are very similar to arrays and matrices. In PyTorch, we use tensors to encode the inputs and outputs of a model, as well as the model’s parameters."
      ]
    },
    {
      "cell_type": "code",
      "execution_count": 14,
      "id": "4ac3bcdd",
      "metadata": {
        "id": "4ac3bcdd"
      },
      "outputs": [],
      "source": [
        "import torch \n",
        "import numpy as np"
      ]
    },
    {
      "cell_type": "markdown",
      "id": "temporal-moore",
      "metadata": {
        "id": "temporal-moore"
      },
      "source": [
        "### Initializing a Tensor\n",
        "Tensors can be initialzed multiple ways. Tensors can be created directly from data and the data type is automatically inferred."
      ]
    },
    {
      "cell_type": "code",
      "execution_count": 15,
      "id": "familiar-confirmation",
      "metadata": {
        "id": "familiar-confirmation"
      },
      "outputs": [],
      "source": [
        "data = [[1,2], [3,4]]\n",
        "x_data = torch.tensor(data)"
      ]
    },
    {
      "cell_type": "markdown",
      "id": "potential-wilderness",
      "metadata": {
        "id": "potential-wilderness"
      },
      "source": [
        "**From a  Numpy array**"
      ]
    },
    {
      "cell_type": "code",
      "execution_count": 16,
      "id": "collaborative-greece",
      "metadata": {
        "id": "collaborative-greece"
      },
      "outputs": [],
      "source": [
        "np_array = np.array(data)\n",
        "x_np = torch.from_numpy(np_array)"
      ]
    },
    {
      "cell_type": "markdown",
      "id": "contained-sister",
      "metadata": {
        "id": "contained-sister"
      },
      "source": [
        "**From another tensor**\n",
        "\n",
        "The new tensor retains the shape and datatype of the original tensor unless overridden."
      ]
    },
    {
      "cell_type": "code",
      "execution_count": 17,
      "id": "perceived-prince",
      "metadata": {
        "colab": {
          "base_uri": "https://localhost:8080/"
        },
        "id": "perceived-prince",
        "outputId": "c01398a1-85cb-4d37-c7e4-e27332bca316"
      },
      "outputs": [
        {
          "output_type": "stream",
          "name": "stdout",
          "text": [
            "Ones Tensor: \n",
            " tensor([[1, 1],\n",
            "        [1, 1]]) \n",
            "\n",
            "Random Tensor: \n",
            " tensor([[0.2221, 0.3208],\n",
            "        [0.7313, 0.5518]]) \n",
            "\n"
          ]
        }
      ],
      "source": [
        "x_ones = torch.ones_like(x_data) # retains the properties of x_data\n",
        "print(f\"Ones Tensor: \\n {x_ones} \\n\")\n",
        "\n",
        "x_rand = torch.rand_like(x_data, dtype=torch.float) # overrides the datatype of x_data\n",
        "print(f\"Random Tensor: \\n {x_rand} \\n\")"
      ]
    },
    {
      "cell_type": "markdown",
      "id": "herbal-mercury",
      "metadata": {
        "id": "herbal-mercury"
      },
      "source": [
        "**With random or constant values:**\n",
        "\n",
        "``shape`` is a tuple of tensor dimensions. In the functions below, it determines the dimensionality of the output tensor."
      ]
    },
    {
      "cell_type": "code",
      "execution_count": 18,
      "id": "portable-postage",
      "metadata": {
        "colab": {
          "base_uri": "https://localhost:8080/"
        },
        "id": "portable-postage",
        "outputId": "cc58e391-dabc-4a77-c709-7e550693d282"
      },
      "outputs": [
        {
          "output_type": "stream",
          "name": "stdout",
          "text": [
            "Random Tensor: \n",
            " tensor([[0.4608, 0.1037, 0.8313],\n",
            "        [0.6394, 0.5611, 0.3618]]) \n",
            "\n",
            "Ones Tensor: \n",
            " tensor([[1., 1., 1.],\n",
            "        [1., 1., 1.]]) \n",
            "\n",
            "Zeros Tensor: \n",
            " tensor([[0., 0., 0.],\n",
            "        [0., 0., 0.]])\n"
          ]
        }
      ],
      "source": [
        "shape = (2,3,)\n",
        "rand_tensor = torch.rand(shape)\n",
        "ones_tensor = torch.ones(shape)\n",
        "zeros_tensor = torch.zeros(shape)\n",
        "\n",
        "print(f\"Random Tensor: \\n {rand_tensor} \\n\")\n",
        "print(f\"Ones Tensor: \\n {ones_tensor} \\n\")\n",
        "print(f\"Zeros Tensor: \\n {zeros_tensor}\")"
      ]
    },
    {
      "cell_type": "markdown",
      "id": "related-noise",
      "metadata": {
        "id": "related-noise"
      },
      "source": [
        "## Attributes of Tensors\n",
        "Tensor attributes describe their shape, datatype, and the device on which they are stored."
      ]
    },
    {
      "cell_type": "code",
      "execution_count": 19,
      "id": "aggregate-composition",
      "metadata": {
        "colab": {
          "base_uri": "https://localhost:8080/"
        },
        "id": "aggregate-composition",
        "outputId": "51c88c19-cbe3-477a-c339-57403a2ee43c"
      },
      "outputs": [
        {
          "output_type": "stream",
          "name": "stdout",
          "text": [
            "Shape of tensor: torch.Size([3, 4])\n",
            "Datatype of tensor: torch.float32\n",
            "Device tensor is stored on: cpu\n"
          ]
        }
      ],
      "source": [
        "tensor = torch.rand(3,4)\n",
        "\n",
        "print(f\"Shape of tensor: {tensor.shape}\")\n",
        "print(f\"Datatype of tensor: {tensor.dtype}\")\n",
        "print(f\"Device tensor is stored on: {tensor.device}\")"
      ]
    },
    {
      "cell_type": "markdown",
      "id": "silent-given",
      "metadata": {
        "id": "silent-given"
      },
      "source": [
        "## Operations on Tensors\n",
        "By default, tensors are created on the CPU. We need to explicitly move tensors to the GPU using .to method (after checking for GPU availability). Keep in mind that copying large tensors across devices can be expensive in terms of time and memory"
      ]
    },
    {
      "cell_type": "code",
      "execution_count": 20,
      "id": "secret-designation",
      "metadata": {
        "colab": {
          "base_uri": "https://localhost:8080/"
        },
        "id": "secret-designation",
        "outputId": "0ca36fb1-d81b-437f-b2d2-ed04b3f305bc"
      },
      "outputs": [
        {
          "output_type": "stream",
          "name": "stdout",
          "text": [
            "First row: tensor([1., 1., 1., 1.])\n",
            "First column: tensor([1., 1., 1., 1.])\n",
            "Last column: tensor([1., 1., 1., 1.])\n",
            "tensor([[1., 0., 1., 1.],\n",
            "        [1., 0., 1., 1.],\n",
            "        [1., 0., 1., 1.],\n",
            "        [1., 0., 1., 1.]])\n"
          ]
        }
      ],
      "source": [
        "# We move our tensor to the GPU if available\n",
        "if torch.cuda.is_available():\n",
        "    tensor = tensor.to(\"cuda\")\n",
        "    \n",
        "# Notice the Numpy-like syntax\n",
        "tensor = torch.ones(4, 4)\n",
        "print(f\"First row: {tensor[0]}\")\n",
        "print(f\"First column: {tensor[:, 0]}\")\n",
        "print(f\"Last column: {tensor[..., -1]}\")\n",
        "tensor[:,1] = 0\n",
        "print(tensor)"
      ]
    },
    {
      "cell_type": "markdown",
      "id": "perceived-dining",
      "metadata": {
        "id": "perceived-dining"
      },
      "source": [
        "**Joining tensors** You can use ``torch.cat`` to concatenate a sequence of tensors along a given dimension. You also have the ``torch.stack`` operation that is subtly different than `cat`"
      ]
    },
    {
      "cell_type": "code",
      "execution_count": 21,
      "id": "sunrise-report",
      "metadata": {
        "colab": {
          "base_uri": "https://localhost:8080/"
        },
        "id": "sunrise-report",
        "outputId": "a0396dbf-1b00-4189-dae7-f4297d80c1f7"
      },
      "outputs": [
        {
          "output_type": "stream",
          "name": "stdout",
          "text": [
            "torch.Size([4, 4])\n",
            "torch.Size([4, 12])\n",
            "torch.Size([4, 3, 4])\n"
          ]
        }
      ],
      "source": [
        "t1 = torch.cat([tensor, tensor, tensor], dim=1)\n",
        "t2 = torch.stack([tensor, tensor, tensor], dim=1)\n",
        "print(tensor.shape)\n",
        "print(t1.shape)\n",
        "print(t2.shape)"
      ]
    },
    {
      "cell_type": "markdown",
      "id": "seasonal-liberal",
      "metadata": {
        "id": "seasonal-liberal"
      },
      "source": [
        "**Arithmetic operations**"
      ]
    },
    {
      "cell_type": "code",
      "execution_count": 22,
      "id": "mighty-boston",
      "metadata": {
        "id": "mighty-boston",
        "colab": {
          "base_uri": "https://localhost:8080/"
        },
        "outputId": "caafe89d-faee-42f2-c2f2-e86706459287"
      },
      "outputs": [
        {
          "output_type": "execute_result",
          "data": {
            "text/plain": [
              "tensor([[1., 0., 1., 1.],\n",
              "        [1., 0., 1., 1.],\n",
              "        [1., 0., 1., 1.],\n",
              "        [1., 0., 1., 1.]])"
            ]
          },
          "metadata": {},
          "execution_count": 22
        }
      ],
      "source": [
        "# This computes the matrix multiplication between two tensors. y1, y2, y3 will have the same value\n",
        "y1 = tensor @ tensor.T # @ when used in an expression envokes matrix multiplication since Python 3.5(?)\n",
        "y2 = tensor.matmul(tensor.T)\n",
        "\n",
        "\n",
        "y3 = torch.rand_like(tensor)\n",
        "torch.matmul(tensor, tensor.T, out=y3)\n",
        "\n",
        "# This computes the element-wise product. z1, z2, z3 will have the same value\n",
        "z1 = tensor * tensor\n",
        "z2 = tensor.mul(tensor)\n",
        "\n",
        "z3 = torch.rand_like(tensor)\n",
        "torch.mul(tensor, tensor, out=z3)"
      ]
    },
    {
      "cell_type": "markdown",
      "id": "passive-victory",
      "metadata": {
        "id": "passive-victory"
      },
      "source": [
        "**Single-element tensors** If you have a one-element tensor, for example by aggregating all\n",
        "values of a tensor into one value, you can convert it to a Python\n",
        "numerical value using ``item()``:"
      ]
    },
    {
      "cell_type": "code",
      "execution_count": 23,
      "id": "virgin-blast",
      "metadata": {
        "scrolled": true,
        "id": "virgin-blast",
        "colab": {
          "base_uri": "https://localhost:8080/"
        },
        "outputId": "8f2cb978-1dc3-4968-9482-76a40956fe0f"
      },
      "outputs": [
        {
          "output_type": "stream",
          "name": "stdout",
          "text": [
            "12.0 <class 'float'>\n"
          ]
        }
      ],
      "source": [
        "agg = tensor.sum()\n",
        "agg_item = agg.item()\n",
        "print(agg_item, type(agg_item))"
      ]
    },
    {
      "cell_type": "markdown",
      "id": "bored-province",
      "metadata": {
        "id": "bored-province"
      },
      "source": [
        "**In-place operations**\n",
        "Operations that store the result into the operand are called in-place. They are denoted by a ``_`` suffix.\n",
        "For example: ``x.copy_(y)``, ``x.t_()``, will change ``x``."
      ]
    },
    {
      "cell_type": "markdown",
      "id": "loved-preservation",
      "metadata": {
        "id": "loved-preservation"
      },
      "source": [
        "Let's try some examples! Below we will be working with an image. First let's load the image from skimage and place it in `face`. "
      ]
    },
    {
      "cell_type": "code",
      "execution_count": 24,
      "id": "moral-verse",
      "metadata": {
        "id": "moral-verse",
        "colab": {
          "base_uri": "https://localhost:8080/",
          "height": 287
        },
        "outputId": "8b019d00-ffc5-4bfc-d740-9435ffe64c0c"
      },
      "outputs": [
        {
          "output_type": "execute_result",
          "data": {
            "text/plain": [
              "<matplotlib.image.AxesImage at 0x7fd04177eed0>"
            ]
          },
          "metadata": {},
          "execution_count": 24
        },
        {
          "output_type": "display_data",
          "data": {
            "image/png": "[encoded data removed]",
            "text/plain": [
              "<Figure size 432x288 with 1 Axes>"
            ]
          },
          "metadata": {
            "needs_background": "light"
          }
        }
      ],
      "source": [
        "import matplotlib.pyplot as plt\n",
        "import numpy as np\n",
        "from skimage import data\n",
        "from scipy import misc\n",
        "import torch\n",
        "\n",
        "#camera = data.camera()\n",
        "face = misc.face()\n",
        "plt.imshow(face)"
      ]
    },
    {
      "cell_type": "markdown",
      "id": "extreme-spell",
      "metadata": {
        "id": "extreme-spell"
      },
      "source": [
        "The array containing our image is in the variable `face`, a numpy array with dtype `uint8`. Lets create a pytorch tensor from the numpy array."
      ]
    },
    {
      "cell_type": "code",
      "execution_count": 25,
      "id": "collective-steps",
      "metadata": {
        "id": "collective-steps",
        "colab": {
          "base_uri": "https://localhost:8080/",
          "height": 269
        },
        "outputId": "a73db2a6-8445-45ce-eaf0-b9d82818c4da"
      },
      "outputs": [
        {
          "output_type": "display_data",
          "data": {
            "image/png": "[encoded data removed]",
            "text/plain": [
              "<Figure size 432x288 with 1 Axes>"
            ]
          },
          "metadata": {
            "needs_background": "light"
          }
        }
      ],
      "source": [
        "### START CODE HERE ### (≈ 1 lines of code)\n",
        "face_tensor=torch.from_numpy(face)\n",
        "### END CODE HERE ###\n",
        "\n",
        "plt.imshow(face_tensor) # Note that matplotlib is able to plot the tensor.\n",
        "assert face_tensor.shape == face.shape"
      ]
    },
    {
      "cell_type": "markdown",
      "id": "accredited-antigua",
      "metadata": {
        "id": "accredited-antigua"
      },
      "source": [
        "Now let's make some modifications to the image. Use `face_tensor` and pytorch functions to create \n",
        "- `face_flipped`: image mirrored over the x dimension\n",
        "- `invert_color`: image with colors inverted (we can obtain this by subtracting each pixels value from the maximum pixel value).\n",
        "- `pink_color`: image with the green channel removed (set to 0). Note that our original image is RBG.\n",
        "- `image_stack`: image with our newly created images (3 total) stacked on top of one another (order doesn't matter)."
      ]
    },
    {
      "cell_type": "code",
      "execution_count": 26,
      "id": "registered-enforcement",
      "metadata": {
        "id": "registered-enforcement",
        "colab": {
          "base_uri": "https://localhost:8080/",
          "height": 176
        },
        "outputId": "43102d26-f769-45da-af86-3288a6b752d6"
      },
      "outputs": [
        {
          "output_type": "execute_result",
          "data": {
            "text/plain": [
              "<matplotlib.image.AxesImage at 0x7fd03ed7edd0>"
            ]
          },
          "metadata": {},
          "execution_count": 26
        },
        {
          "output_type": "display_data",
          "data": {
            "image/png": "[encoded data removed]",
            "text/plain": [
              "<Figure size 432x288 with 5 Axes>"
            ]
          },
          "metadata": {
            "needs_background": "light"
          }
        }
      ],
      "source": [
        "### START CODE HERE ### (≈ 1 lines of code)\n",
        "face_flipped = face_tensor.flip((0))\n",
        "\n",
        "max_tensor = torch.ones_like(face_tensor) * 255\n",
        "invert_color = torch.subtract(max_tensor, face_tensor)\n",
        "\n",
        "pink_color = torch.clone(face_tensor)\n",
        "pink_color[:, :, 1] = 0\n",
        "\n",
        "image_stack = torch.cat( (face_flipped, invert_color, pink_color))\n",
        "### END CODE HERE ###\n",
        "                         \n",
        "fig, axs = plt.subplots(1,5)\n",
        "fig.tight_layout()\n",
        "axs[0].imshow(face_tensor.numpy())\n",
        "axs[1].imshow(face_flipped.numpy())\n",
        "axs[2].imshow(invert_color.numpy())\n",
        "axs[3].imshow(pink_color.numpy())\n",
        "axs[4].imshow(image_stack)"
      ]
    },
    {
      "cell_type": "markdown",
      "id": "01c765cf",
      "metadata": {
        "id": "01c765cf"
      },
      "source": [
        "# Datasets and Dataloaders\n",
        "Code for processing data samples can get messy and hard to maintain; we ideally want our dataset code\n",
        "to be decoupled from our model training code for better readability and modularity.\n",
        "PyTorch provides two data primitives: ``torch.utils.data.DataLoader`` and ``torch.utils.data.Dataset``\n",
        "that allow you to use pre-loaded datasets as well as your own data.\n",
        "``Dataset`` stores the samples and their corresponding labels, and ``DataLoader`` wraps an iterable around\n",
        "the ``Dataset`` to enable easy access to the samples."
      ]
    },
    {
      "cell_type": "markdown",
      "id": "urban-gospel",
      "metadata": {
        "id": "urban-gospel"
      },
      "source": [
        "In this example, we will be loading in the MNIST dataset, a pre-loaded dataset provided by pytorch in their `torch.utils.data.DataLoader`. The dataset will be loaded with the following paramters\n",
        " - ``root`` is the path where the train/test data is stored,\n",
        " - ``train`` specifies training or test dataset,\n",
        " - ``download=True`` downloads the data from the internet if it's not available at ``root``.\n",
        " - ``transform`` and ``target_transform`` specify the feature and label transformations.\n",
        " \n",
        "\\* **Note:**  This will physically download the dataset to ``root``. You can either delete the dataset after the excercise or change ``download``'s value. The dataset is ~126M."
      ]
    },
    {
      "cell_type": "code",
      "execution_count": 27,
      "id": "structured-execution",
      "metadata": {
        "id": "structured-execution",
        "colab": {
          "base_uri": "https://localhost:8080/",
          "height": 435,
          "referenced_widgets": [
            "8c1448a2a2dd45b2838655f56cf095ab",
            "5333c0b0144240b39e33d43e2027763b",
            "9195abff37a04149ad259ad47dc6ebd2",
            "7160712a45044d76afd9a9b506147229",
            "f6e663af8d7947e3add741b9a162ceee",
            "3750579814f54e8a87b0124936690d13",
            "12854a13ba9a4db7bd4ca791f164f698",
            "485f984962134127aefe75cd2fa70e50",
            "960449adff254c8798b7885a7278134f",
            "41a727887e2c4dd3b6294f9ad371e126",
            "b68a567c23ce4dd0b2086c3b14193cfd",
            "811e6dd8d5bf47c99bdd2d6a5e3a1754",
            "27aabb099c914e20a3cc77fbc010f517",
            "db4785bf76494eff9b084a0877b2af84",
            "4a4b369fab0a44ff8ad8f0fa95fdfc9b",
            "11b209f737614c63a7f332a9ca2a6258",
            "b804119ea4ed4de4ab64131718dcd00a",
            "0641e7d7a05247b88433b80d0d8ef1cd",
            "a3aaf61d48204db889f243a7019154db",
            "77c4e4a1db004fa1ba909b03ef0938b9",
            "23676ddcac93484981eb970aad6df825",
            "dcc93ce9e5dd4fe0aef5387f39a30ffa",
            "79a4e44509ca4b259667662a4efacc27",
            "f8f8ee13b278444aa72c73b401926f3a",
            "d52fccd28fd441e5bd2f40f6ac7f3fdb",
            "45b764619c1849fe9e98bafb48475fe1",
            "1628f101fab94cedbd63fd8547b4d182",
            "a75e2fc096154f69b546a57da0273e0f",
            "f9bc9e369a684657922ab2a32ccf580a",
            "5188d524e6664267b73c19d315ea97e8",
            "6bf5a46a305241fd83950db9744dd3ed",
            "339b3baf1fcc4e9c81cb55e9c9cf5f8a",
            "db16e293ba46461c8f65742a825b37ba",
            "381f81718afa41d3a93dce7a4029cf10",
            "772628bd724b4a7ab919297e545e2a62",
            "4d9da64b24ed437087ac14114f0fb8b5",
            "a61c7d7d87aa4ddd8a214a322742c389",
            "ee4102b092634d1a985b4a59dfbbc0ee",
            "729e9098cc3a421995d371054978a63c",
            "7cb085bacea24a12bcd6179ca31d6d1d",
            "c64998ec8bf54b6a8b08c3c3b3d30978",
            "eca1dbbeede0490d827bc50040e0687a",
            "e3b059d572f7408fa89c7fc0a79162af",
            "3edb3b2eccdd4e06a5fffc07b2783539"
          ]
        },
        "outputId": "e225cbdf-f08b-4790-cd2c-f5ad86f3565c"
      },
      "outputs": [
        {
          "output_type": "stream",
          "name": "stdout",
          "text": [
            "Downloading http://yann.lecun.com/exdb/mnist/train-images-idx3-ubyte.gz\n",
            "Downloading http://yann.lecun.com/exdb/mnist/train-images-idx3-ubyte.gz to data/MNIST/raw/train-images-idx3-ubyte.gz\n"
          ]
        },
        {
          "output_type": "display_data",
          "data": {
            "application/vnd.jupyter.widget-view+json": {
              "model_id": "8c1448a2a2dd45b2838655f56cf095ab",
              "version_minor": 0,
              "version_major": 2
            },
            "text/plain": [
              "  0%|          | 0/9912422 [00:00<?, ?it/s]"
            ]
          },
          "metadata": {}
        },
        {
          "output_type": "stream",
          "name": "stdout",
          "text": [
            "Extracting data/MNIST/raw/train-images-idx3-ubyte.gz to data/MNIST/raw\n",
            "\n",
            "Downloading http://yann.lecun.com/exdb/mnist/train-labels-idx1-ubyte.gz\n",
            "Downloading http://yann.lecun.com/exdb/mnist/train-labels-idx1-ubyte.gz to data/MNIST/raw/train-labels-idx1-ubyte.gz\n"
          ]
        },
        {
          "output_type": "display_data",
          "data": {
            "application/vnd.jupyter.widget-view+json": {
              "model_id": "811e6dd8d5bf47c99bdd2d6a5e3a1754",
              "version_minor": 0,
              "version_major": 2
            },
            "text/plain": [
              "  0%|          | 0/28881 [00:00<?, ?it/s]"
            ]
          },
          "metadata": {}
        },
        {
          "output_type": "stream",
          "name": "stdout",
          "text": [
            "Extracting data/MNIST/raw/train-labels-idx1-ubyte.gz to data/MNIST/raw\n",
            "\n",
            "Downloading http://yann.lecun.com/exdb/mnist/t10k-images-idx3-ubyte.gz\n",
            "Downloading http://yann.lecun.com/exdb/mnist/t10k-images-idx3-ubyte.gz to data/MNIST/raw/t10k-images-idx3-ubyte.gz\n"
          ]
        },
        {
          "output_type": "display_data",
          "data": {
            "application/vnd.jupyter.widget-view+json": {
              "model_id": "79a4e44509ca4b259667662a4efacc27",
              "version_minor": 0,
              "version_major": 2
            },
            "text/plain": [
              "  0%|          | 0/1648877 [00:00<?, ?it/s]"
            ]
          },
          "metadata": {}
        },
        {
          "output_type": "stream",
          "name": "stdout",
          "text": [
            "Extracting data/MNIST/raw/t10k-images-idx3-ubyte.gz to data/MNIST/raw\n",
            "\n",
            "Downloading http://yann.lecun.com/exdb/mnist/t10k-labels-idx1-ubyte.gz\n",
            "Downloading http://yann.lecun.com/exdb/mnist/t10k-labels-idx1-ubyte.gz to data/MNIST/raw/t10k-labels-idx1-ubyte.gz\n"
          ]
        },
        {
          "output_type": "display_data",
          "data": {
            "application/vnd.jupyter.widget-view+json": {
              "model_id": "381f81718afa41d3a93dce7a4029cf10",
              "version_minor": 0,
              "version_major": 2
            },
            "text/plain": [
              "  0%|          | 0/4542 [00:00<?, ?it/s]"
            ]
          },
          "metadata": {}
        },
        {
          "output_type": "stream",
          "name": "stdout",
          "text": [
            "Extracting data/MNIST/raw/t10k-labels-idx1-ubyte.gz to data/MNIST/raw\n",
            "\n"
          ]
        }
      ],
      "source": [
        "from torch.utils.data import Dataset\n",
        "from torchvision import datasets\n",
        "from torchvision import transforms as transforms\n",
        "from torchvision.transforms import ToTensor\n",
        "import matplotlib.pyplot as plt\n",
        "%matplotlib inline\n",
        "\n",
        "transform = transforms.Compose([\n",
        "    transforms.Resize(32),\n",
        "    transforms.ToTensor()])\n",
        "\n",
        "training_data = datasets.MNIST(\n",
        "    root=\"data\",\n",
        "    train=True,\n",
        "    download=True,\n",
        "    transform=transform\n",
        ")\n",
        "\n",
        "test_data = datasets.MNIST(\n",
        "    root=\"data\",\n",
        "    train=False,\n",
        "    download=True,\n",
        "    transform=transform\n",
        ")"
      ]
    },
    {
      "cell_type": "markdown",
      "id": "relative-summary",
      "metadata": {
        "id": "relative-summary"
      },
      "source": [
        "## Iterating and Visualizing the Dataset\n",
        "\n",
        "We can index ``Datasets`` manually like a list: ``training_data[index]``.\n",
        "We use ``matplotlib`` to visualize some samples in our training data."
      ]
    },
    {
      "cell_type": "code",
      "execution_count": 28,
      "id": "efficient-commodity",
      "metadata": {
        "id": "efficient-commodity",
        "colab": {
          "base_uri": "https://localhost:8080/",
          "height": 500
        },
        "outputId": "1c46f7f7-de3a-42a0-f282-eb281aaf12c5"
      },
      "outputs": [
        {
          "output_type": "display_data",
          "data": {
            "image/png": "[encoded data removed]",
            "text/plain": [
              "<Figure size 576x576 with 9 Axes>"
            ]
          },
          "metadata": {
            "needs_background": "light"
          }
        },
        {
          "output_type": "execute_result",
          "data": {
            "text/plain": [
              "tensor([5, 0, 4,  ..., 5, 6, 8])"
            ]
          },
          "metadata": {},
          "execution_count": 28
        }
      ],
      "source": [
        "labels_map = {\n",
        "    0: \"0\",\n",
        "    1: \"1\",\n",
        "    2: \"2\",\n",
        "    3: \"3\",\n",
        "    4: \"4\",\n",
        "    5: \"5\",\n",
        "    6: \"6\",\n",
        "    7: \"7\",\n",
        "    8: \"8\",\n",
        "    9: \"9\",\n",
        "}\n",
        "figure = plt.figure(figsize=(8, 8))\n",
        "cols, rows = 3, 3\n",
        "for i in range(1, cols * rows + 1):\n",
        "    sample_idx = torch.randint(len(training_data), size=(1,)).item()\n",
        "    img, label = training_data[sample_idx]\n",
        "    figure.add_subplot(rows, cols, i)\n",
        "    plt.title(labels_map[label])\n",
        "    plt.axis(\"off\")\n",
        "    plt.imshow(img.squeeze(), cmap=\"gray\")\n",
        "plt.show()\n",
        "\n",
        "training_data.targets"
      ]
    },
    {
      "cell_type": "markdown",
      "id": "preceding-collar",
      "metadata": {
        "id": "preceding-collar"
      },
      "source": [
        "## Creating a Custom Dataset for your files\n",
        "A custom Dataset class must implement three functions: `__init__`, `__len__`, and `__getitem__`.\n",
        "Take a look at this implementation; the FashionMNIST images are stored\n",
        "in a directory ``img_dir``, and their labels are stored separately in a CSV file ``annotations_file``.\n",
        "\n",
        "In the next sections, we'll break down what's happening in each of these functions."
      ]
    },
    {
      "cell_type": "code",
      "execution_count": 29,
      "id": "mature-child",
      "metadata": {
        "id": "mature-child"
      },
      "outputs": [],
      "source": [
        "import os\n",
        "import pandas as pd\n",
        "from torchvision.io import read_image\n",
        "\n",
        "class CustomImageDataset(Dataset):\n",
        "    def __init__(self, annotations_file, img_dir, transform=None, target_transform=None):\n",
        "        self.img_labels = pd.read_csv(annotations_file)\n",
        "        self.img_dir = img_dir\n",
        "        self.transform = transform\n",
        "        self.target_transform = target_transform\n",
        "\n",
        "    def __len__(self):\n",
        "        return len(self.img_labels)\n",
        "\n",
        "    def __getitem__(self, idx):\n",
        "        img_path = os.path.join(self.img_dir, self.img_labels.iloc[idx, 0])\n",
        "        image = read_image(img_path)\n",
        "        label = self.img_labels.iloc[idx, 1]\n",
        "        if self.transform:\n",
        "            image = self.transform(image)\n",
        "        if self.target_transform:\n",
        "            label = self.target_transform(label)\n",
        "        return image, label"
      ]
    },
    {
      "cell_type": "markdown",
      "id": "heard-bleeding",
      "metadata": {
        "id": "heard-bleeding"
      },
      "source": [
        "### \\_\\_init\\_\\_\n",
        "The __init__ function is run once when instantiating the Dataset object. We initialize\n",
        "the directory containing the images, the annotations file, and both transforms (covered\n",
        "in more detail in the next section).\n",
        "\n",
        "The labels.csv file looks like: ::\n",
        "\n",
        "    zero1.jpg, 0\n",
        "    zero2.jpg, 0\n",
        "    ......\n",
        "    nine999.jpg, 9\n"
      ]
    },
    {
      "cell_type": "code",
      "execution_count": 30,
      "id": "flush-spine",
      "metadata": {
        "id": "flush-spine"
      },
      "outputs": [],
      "source": [
        "def __init__(self, annotations_file, img_dir, transform=None, target_transform=None):\n",
        "    self.img_labels = pd.read_csv(annotations_file)\n",
        "    self.img_dir = img_dir\n",
        "    self.transform = transform\n",
        "    self.target_transform = target_transform"
      ]
    },
    {
      "cell_type": "markdown",
      "id": "figured-fifty",
      "metadata": {
        "id": "figured-fifty"
      },
      "source": [
        "### \\_\\_len\\_\\_\n",
        "The \\_\\_len\\_\\_ function returns the number of samples in our dataset."
      ]
    },
    {
      "cell_type": "code",
      "execution_count": 31,
      "id": "connected-perception",
      "metadata": {
        "id": "connected-perception"
      },
      "outputs": [],
      "source": [
        "# For example\n",
        "def __init__(self, annotations_file, img_dir, transform=None, target_transform=None):\n",
        "    self.img_labels = pd.read_csv(annotations_file)\n",
        "    self.img_dir = img_dir\n",
        "    self.transform = transform\n",
        "    self.target_transform = target_transform"
      ]
    },
    {
      "cell_type": "markdown",
      "id": "latter-consortium",
      "metadata": {
        "id": "latter-consortium"
      },
      "source": [
        "### \\_\\_getitem\\_\\_\n",
        "The \\_\\_getitem\\_\\_ function loads and returns a sample from the dataset at the given index ``idx``.\n",
        "Based on the index, it identifies the image's location on disk, converts that to a tensor using ``read_image``, retrieves the\n",
        "corresponding label from the csv data in ``self.img_labels``, calls the transform functions on them (if applicable), and returns the\n",
        "tensor image and corresponding label in a tuple."
      ]
    },
    {
      "cell_type": "code",
      "execution_count": 32,
      "id": "suitable-cannon",
      "metadata": {
        "id": "suitable-cannon"
      },
      "outputs": [],
      "source": [
        "def __getitem__(self, idx):\n",
        "    img_path = os.path.join(self.img_dir, self.img_labels.iloc[idx, 0])\n",
        "    image = read_image(img_path)\n",
        "    label = self.img_labels.iloc[idx, 1]\n",
        "    if self.transform:\n",
        "        image = self.transform(image)\n",
        "    if self.target_transform:\n",
        "        label = self.target_transform(label)\n",
        "    return image, label"
      ]
    },
    {
      "cell_type": "markdown",
      "id": "lonely-turkey",
      "metadata": {
        "id": "lonely-turkey"
      },
      "source": [
        "## Preparing your data for training with DataLoaders\n",
        "The ``Dataset`` retrieves our dataset's features and labels one sample at a time. While training a model, we typically want to\n",
        "pass samples in \"minibatches\", reshuffle the data at every epoch to reduce model overfitting, and use Python's ``multiprocessing`` to\n",
        "speed up data retrieval.\n",
        "\n",
        "``DataLoader`` is an iterable that abstracts this complexity for us in an easy API."
      ]
    },
    {
      "cell_type": "code",
      "execution_count": 33,
      "id": "racial-trick",
      "metadata": {
        "id": "racial-trick"
      },
      "outputs": [],
      "source": [
        "from torch.utils.data import DataLoader\n",
        "\n",
        "train_dataloader = DataLoader(training_data, batch_size=64, shuffle=True)\n",
        "test_dataloader = DataLoader(test_data, batch_size=64, shuffle=True)"
      ]
    },
    {
      "cell_type": "markdown",
      "id": "local-slave",
      "metadata": {
        "id": "local-slave"
      },
      "source": [
        "## Iterate through the DataLoader\n",
        "We have loaded that dataset into the ``DataLoader`` and can iterate through the dataset as needed.\n",
        "Each iteration below returns a batch of ``train_features`` and ``train_labels`` (containing ``batch_size=64`` features and labels respectively).\n",
        "Because we specified ``shuffle=True``, after we iterate over all batches the data is shuffled (for finer-grained control over\n",
        "the data loading order"
      ]
    },
    {
      "cell_type": "code",
      "execution_count": 34,
      "id": "verified-monthly",
      "metadata": {
        "id": "verified-monthly",
        "colab": {
          "base_uri": "https://localhost:8080/",
          "height": 320
        },
        "outputId": "c88f2ec4-ed5e-4bcc-e75c-091e9cb397ee"
      },
      "outputs": [
        {
          "output_type": "stream",
          "name": "stdout",
          "text": [
            "Feature batch shape: torch.Size([64, 1, 32, 32])\n",
            "Labels batch shape: torch.Size([64])\n"
          ]
        },
        {
          "output_type": "display_data",
          "data": {
            "image/png": "[encoded data removed]",
            "text/plain": [
              "<Figure size 432x288 with 1 Axes>"
            ]
          },
          "metadata": {
            "needs_background": "light"
          }
        },
        {
          "output_type": "stream",
          "name": "stdout",
          "text": [
            "Label: 2\n"
          ]
        }
      ],
      "source": [
        "# Display image and label.\n",
        "train_features, train_labels = next(iter(train_dataloader))\n",
        "print(f\"Feature batch shape: {train_features.size()}\")\n",
        "print(f\"Labels batch shape: {train_labels.size()}\")\n",
        "img = train_features[0].squeeze()\n",
        "label = train_labels[0]\n",
        "plt.imshow(img, cmap=\"gray\")\n",
        "plt.show()\n",
        "print(f\"Label: {label.item()}\")"
      ]
    },
    {
      "cell_type": "markdown",
      "id": "sonic-adoption",
      "metadata": {
        "id": "sonic-adoption"
      },
      "source": [
        "**Note**: from here we will not be including all content from the Pytorch's tutorial, but we encourage you to look at it."
      ]
    },
    {
      "cell_type": "markdown",
      "id": "acquired-binding",
      "metadata": {
        "id": "acquired-binding"
      },
      "source": [
        "# Building Models\n",
        "Neural networks comprise of layers/modules that perform operations on data.\n",
        "The [`torch.nn`](https://pytorch.org/docs/stable/nn.html) namespace provides all the building blocks you need to\n",
        "build your own neural network. Every module in PyTorch subclasses the [`nn.Module`](<https://pytorch.org/docs/stable/generated/torch.nn.Module.html>).\n",
        "A neural network is a module itself that consists of other modules (layers). This nested structure allows for\n",
        "building and managing complex architectures easily."
      ]
    },
    {
      "cell_type": "markdown",
      "id": "lucky-hundred",
      "metadata": {
        "id": "lucky-hundred"
      },
      "source": [
        "## Get Device for Training\n",
        "We want to be able to train our model on a hardware accelerator like the GPU,\n",
        "if it is available. Let's check to see if\n",
        "[`torch.cuda`](https://pytorch.org/docs/stable/notes/cuda.html) is available, else we\n",
        "continue to use the CPU."
      ]
    },
    {
      "cell_type": "code",
      "execution_count": 35,
      "id": "appropriate-image",
      "metadata": {
        "id": "appropriate-image",
        "colab": {
          "base_uri": "https://localhost:8080/"
        },
        "outputId": "5b4edd22-1a3e-4f1c-8773-bd1d1b1fc052"
      },
      "outputs": [
        {
          "output_type": "stream",
          "name": "stdout",
          "text": [
            "Using cpu device\n"
          ]
        }
      ],
      "source": [
        "import torch.nn as nn\n",
        "device = 'cuda' if torch.cuda.is_available() else 'cpu'\n",
        "print(f'Using {device} device')"
      ]
    },
    {
      "cell_type": "markdown",
      "id": "southwest-vanilla",
      "metadata": {
        "id": "southwest-vanilla"
      },
      "source": [
        "## Define the Class\n",
        "We define our neural network by subclassing ``nn.Module``, and\n",
        "initialize the neural network layers in ``__init__``. Every ``nn.Module`` subclass implements\n",
        "the operations on input data in the ``forward`` method.\n",
        "\n",
        "We create an instance of ``NeuralNetwork``, and move it to the ``device``, and print its structure."
      ]
    },
    {
      "cell_type": "code",
      "execution_count": 36,
      "id": "perceived-james",
      "metadata": {
        "id": "perceived-james",
        "colab": {
          "base_uri": "https://localhost:8080/"
        },
        "outputId": "2672f5c1-8daa-4e3b-9df9-38ca4501e53d"
      },
      "outputs": [
        {
          "output_type": "stream",
          "name": "stdout",
          "text": [
            "NeuralNetwork(\n",
            "  (flatten): Flatten(start_dim=1, end_dim=-1)\n",
            "  (linear_relu_stack): Sequential(\n",
            "    (0): Linear(in_features=1024, out_features=512, bias=True)\n",
            "    (1): ReLU()\n",
            "    (2): Linear(in_features=512, out_features=512, bias=True)\n",
            "    (3): ReLU()\n",
            "    (4): Linear(in_features=512, out_features=10, bias=True)\n",
            "  )\n",
            ")\n"
          ]
        }
      ],
      "source": [
        "class NeuralNetwork(nn.Module):\n",
        "    def __init__(self):\n",
        "        super(NeuralNetwork, self).__init__()\n",
        "        self.flatten = nn.Flatten()\n",
        "        self.linear_relu_stack = nn.Sequential(\n",
        "            nn.Linear(32*32, 512),\n",
        "            nn.ReLU(),\n",
        "            nn.Linear(512, 512),\n",
        "            nn.ReLU(),\n",
        "            nn.Linear(512, 10),\n",
        "        )\n",
        "\n",
        "    def forward(self, x):\n",
        "        x = self.flatten(x)\n",
        "        logits = self.linear_relu_stack(x)\n",
        "        return logits\n",
        "    \n",
        "model = NeuralNetwork().to(device)\n",
        "print(model)"
      ]
    },
    {
      "cell_type": "markdown",
      "id": "moved-approach",
      "metadata": {
        "id": "moved-approach"
      },
      "source": [
        "To use the model, we pass it the input data. This executes the model's ``forward``,\n",
        "along with some background operations.\n",
        "Do not call ``model.forward()`` directly!\n",
        "\n",
        "Calling the model on the input returns a 10-dimensional tensor with raw predicted values for each class.\n",
        "We get the prediction probabilities by passing it through an instance of the ``nn.Softmax`` module."
      ]
    },
    {
      "cell_type": "code",
      "execution_count": 37,
      "id": "forward-origin",
      "metadata": {
        "id": "forward-origin",
        "colab": {
          "base_uri": "https://localhost:8080/"
        },
        "outputId": "8b45c79c-d129-48e0-82ac-ca8e5ce1b6f2"
      },
      "outputs": [
        {
          "output_type": "stream",
          "name": "stdout",
          "text": [
            "Predicted class: tensor([4])\n"
          ]
        }
      ],
      "source": [
        "E = torch.rand(1, 32, 32, device=device)\n",
        "logits = model(E)\n",
        "pred_probab = nn.Softmax(dim=1)(logits)\n",
        "y_pred = pred_probab.argmax(1)\n",
        "print(f\"Predicted class: {y_pred}\")"
      ]
    },
    {
      "cell_type": "markdown",
      "id": "final-preservation",
      "metadata": {
        "id": "final-preservation"
      },
      "source": [
        "# Autograd\n",
        "When training neural networks, the most frequently used algorithm is\n",
        "**back propagation**. In this algorithm, parameters (model weights) are\n",
        "adjusted according to the **gradient** of the loss function with respect\n",
        "to the given parameter.\n",
        "\n",
        "To compute those gradients, PyTorch has a built-in differentiation engine\n",
        "called ``torch.autograd``. It supports automatic computation of gradient for any\n",
        "computational graph.\n",
        "\n",
        "Consider the simplest one-layer neural network, with input ``x``,\n",
        "parameters ``w`` and ``b``, and some loss function. It can be defined in\n",
        "PyTorch in the following manner:"
      ]
    },
    {
      "cell_type": "code",
      "execution_count": 38,
      "id": "chicken-paper",
      "metadata": {
        "id": "chicken-paper"
      },
      "outputs": [],
      "source": [
        "x = torch.ones(5)  # input tensor\n",
        "y = torch.zeros(3)  # expected output\n",
        "w = torch.randn(5, 3, requires_grad=True)\n",
        "b = torch.randn(3, requires_grad=True)\n",
        "z = torch.matmul(x, w)+b\n",
        "loss = torch.nn.functional.binary_cross_entropy_with_logits(z, y)"
      ]
    },
    {
      "cell_type": "markdown",
      "id": "nominated-silence",
      "metadata": {
        "id": "nominated-silence"
      },
      "source": [
        "## Tensors, Functions and Computational graph\n",
        "This code defines the following **computational graph**:\n",
        "![NN.png](attachment:NN.png)\n",
        "\n",
        "In this network, ``w`` and ``b`` are **parameters**, which we need to\n",
        "optimize. Thus, we need to be able to compute the gradients of loss\n",
        "function with respect to those variables. In order to do that, we set\n",
        "the ``requires_grad`` property of those tensors."
      ]
    },
    {
      "cell_type": "markdown",
      "id": "metric-toddler",
      "metadata": {
        "id": "metric-toddler"
      },
      "source": [
        "**Note**: You can set the value of `requires_grad` when creating a tensor, or later by using `x.requires_grad_(True)` method."
      ]
    },
    {
      "cell_type": "markdown",
      "id": "suburban-chassis",
      "metadata": {
        "id": "suburban-chassis"
      },
      "source": [
        "A function that we apply to tensors to construct computational graph is\n",
        "in fact an object of class ``Function``. This object knows how to\n",
        "compute the function in the *forward* direction, and also how to compute\n",
        "its derivative during the *backward propagation* step. A reference to\n",
        "the backward propagation function is stored in ``grad_fn`` property of a\n",
        "tensor."
      ]
    },
    {
      "cell_type": "code",
      "execution_count": 39,
      "id": "warming-bangladesh",
      "metadata": {
        "id": "warming-bangladesh",
        "colab": {
          "base_uri": "https://localhost:8080/"
        },
        "outputId": "259b33c0-8e43-4e42-cee6-f514c2213ace"
      },
      "outputs": [
        {
          "output_type": "stream",
          "name": "stdout",
          "text": [
            "Gradient function for z = <AddBackward0 object at 0x7fd03b5e4950>\n",
            "Gradient function for loss = <BinaryCrossEntropyWithLogitsBackward0 object at 0x7fd03b5e4350>\n"
          ]
        }
      ],
      "source": [
        "print('Gradient function for z =', z.grad_fn)\n",
        "print('Gradient function for loss =', loss.grad_fn)"
      ]
    },
    {
      "cell_type": "markdown",
      "id": "romance-tutorial",
      "metadata": {
        "id": "romance-tutorial"
      },
      "source": [
        "## Computing Gradients\n",
        "To optimize weights of parameters in the neural network, we need to\n",
        "compute the derivatives of our loss function with respect to parameters,\n",
        "namely, we need $\\frac{\\partial loss}{\\partial w}$ and\n",
        "$\\frac{\\partial loss}{\\partial b}$ under some fixed values of\n",
        "``x`` and ``y``. To compute those derivatives, we call\n",
        "``loss.backward()``, and then retrieve the values from ``w.grad`` and\n",
        "``b.grad``:"
      ]
    },
    {
      "cell_type": "code",
      "execution_count": 40,
      "id": "leading-reviewer",
      "metadata": {
        "id": "leading-reviewer",
        "colab": {
          "base_uri": "https://localhost:8080/"
        },
        "outputId": "3e9c981a-4a69-44ee-cd88-0e2aca8f5107"
      },
      "outputs": [
        {
          "output_type": "stream",
          "name": "stdout",
          "text": [
            "tensor([[0.0180, 0.1860, 0.1547],\n",
            "        [0.0180, 0.1860, 0.1547],\n",
            "        [0.0180, 0.1860, 0.1547],\n",
            "        [0.0180, 0.1860, 0.1547],\n",
            "        [0.0180, 0.1860, 0.1547]])\n",
            "tensor([0.0180, 0.1860, 0.1547])\n"
          ]
        }
      ],
      "source": [
        "loss.backward()\n",
        "print(w.grad)\n",
        "print(b.grad)"
      ]
    },
    {
      "cell_type": "markdown",
      "id": "bright-python",
      "metadata": {
        "id": "bright-python"
      },
      "source": [
        "## Disabling Gradient Tracking\n",
        "By default, all tensors with ``requires_grad=True`` are tracking their\n",
        "computational history and support gradient computation. However, there\n",
        "are some cases when we do not need to do that, for example, when we have\n",
        "trained the model and just want to apply it to some input data, i.e. we\n",
        "only want to do *forward* computations through the network. We can stop\n",
        "tracking computations by surrounding our computation code with\n",
        "``torch.no_grad()`` block:"
      ]
    },
    {
      "cell_type": "code",
      "execution_count": 41,
      "id": "hourly-bridge",
      "metadata": {
        "id": "hourly-bridge",
        "colab": {
          "base_uri": "https://localhost:8080/"
        },
        "outputId": "48b8aea8-8935-4e36-8b66-54d5697dc65f"
      },
      "outputs": [
        {
          "output_type": "stream",
          "name": "stdout",
          "text": [
            "True\n",
            "False\n",
            "False\n"
          ]
        }
      ],
      "source": [
        "z = torch.matmul(x, w)+b\n",
        "print(z.requires_grad)\n",
        "\n",
        "with torch.no_grad():\n",
        "    z = torch.matmul(x, w)+b\n",
        "print(z.requires_grad)\n",
        "\n",
        "# Similarily, we can use tensor.detach() to set requires_grad=False\n",
        "z = torch.matmul(x, w)+b\n",
        "z_det = z.detach()\n",
        "print(z_det.requires_grad)"
      ]
    },
    {
      "cell_type": "markdown",
      "id": "electric-multimedia",
      "metadata": {
        "id": "electric-multimedia"
      },
      "source": [
        "We've created the tensor `t` with a random *grayscale* image and want to pass it through our `model`. Like before\n",
        "- pass `t` through `model` and store the result in `logits`\n",
        "- apply the `softmin` function to `logits` along the 1st dim and store the result in `prob`\n",
        "- get `prob`'s minimum and store the result in `pred`.\n",
        "\n",
        "We may also want to view the image `t` but no longer want to track its gradient\n",
        "- create a new image (tensor) named `t_det` which contains the image `t` but has its `requires_grad` set to False\n",
        "- ensure we can plot `t_det` with matplotlib.\n",
        "\n",
        "Of course here `t`'s gradient is None since we have not called `backward()` on a graph containing `t`. "
      ]
    },
    {
      "cell_type": "code",
      "execution_count": 42,
      "id": "rising-series",
      "metadata": {
        "id": "rising-series",
        "colab": {
          "base_uri": "https://localhost:8080/",
          "height": 317
        },
        "outputId": "1c6cfef8-f51e-47c4-d00a-f06bd5464844"
      },
      "outputs": [
        {
          "output_type": "stream",
          "name": "stdout",
          "text": [
            "tensor([[0.1021, 0.1003, 0.0898, 0.0966, 0.0916, 0.1032, 0.1067, 0.1125, 0.0967,\n",
            "         0.1005]], grad_fn=<SoftmaxBackward0>)\n"
          ]
        },
        {
          "output_type": "display_data",
          "data": {
            "image/png": "[encoded data removed]",
            "text/plain": [
              "<Figure size 432x288 with 1 Axes>"
            ]
          },
          "metadata": {
            "needs_background": "light"
          }
        }
      ],
      "source": [
        "t = torch.rand(1, 32, 32, device=device, requires_grad=True)\n",
        "\n",
        "### START CODE HERE ### (≈ 5 lines of code)\n",
        "t_det = t.detach().squeeze()\n",
        "logits = model(t)\n",
        "prob = nn.Softmin(dim=1)(logits)\n",
        "pred = prob.min()\n",
        "\n",
        "### END CODE HERE ###\n",
        "\n",
        "plt.imshow(t_det)\n",
        "plt.title(f\"Predicted class: {pred.item()}\") #notice we're expecting pred to be a tensor.\n",
        "assert t_det.requires_grad == False\n",
        "assert t.requires_grad == True\n",
        "print(prob)"
      ]
    },
    {
      "cell_type": "markdown",
      "id": "national-norwegian",
      "metadata": {
        "id": "national-norwegian"
      },
      "source": [
        "You may want to disable grad tracking\n",
        "- To mark some parameters in your neural network as **frozen parameters**, a common technique of finetuning a pretrained model.\n",
        "- To **speed up computations** when you are only doing forward pass, because computations on tensors that do not track gradients would be more efficient.\n",
        "\n",
        "The section of Pytorch's tutorial which covers freezing a network's parameters is worth reading."
      ]
    },
    {
      "cell_type": "markdown",
      "id": "latest-sight",
      "metadata": {
        "id": "latest-sight"
      },
      "source": [
        "# Optimizing Model Parameters\n",
        "Once we have a network and data it's time to train, validate and test our model by optimizing its parameters on our data. Training a model is an iterative process; in each iteration (called an *epoch*) the model makes a guess about the output, calculates\n",
        "the error in its guess (*loss*), collects the derivatives of the error with respect to its parameters and **optimizes** these parameters using gradient descent."
      ]
    },
    {
      "cell_type": "markdown",
      "id": "exempt-valve",
      "metadata": {
        "id": "exempt-valve"
      },
      "source": [
        "## Hyperparameters\n",
        "Hyperparameters are adjustable parameters that let you control the model optimization process.\n",
        "Different hyperparameter values can impact model training and convergence rates. We define the following hyperparameters for training:\n",
        " - **Number of Epochs** - the number times to iterate over the dataset\n",
        " - **Batch Size** - the number of data samples propagated through the network before the parameters are updated\n",
        " - **Learning Rate** - how much to update models parameters at each batch/epoch. Smaller values yield slow learning speed, while large values may result in unpredictable behavior during training."
      ]
    },
    {
      "cell_type": "code",
      "execution_count": 43,
      "id": "diagnostic-cisco",
      "metadata": {
        "id": "diagnostic-cisco"
      },
      "outputs": [],
      "source": [
        "learning_rate = 1e-3\n",
        "batch_size = 64\n",
        "epochs = 5"
      ]
    },
    {
      "cell_type": "markdown",
      "id": "unlike-december",
      "metadata": {
        "id": "unlike-december"
      },
      "source": [
        "## Optimization Loop\n",
        "Once we set our hyperparameters, we can then train and optimize our model with an optimization loop. Each\n",
        "iteration of the optimization loop is called an **epoch**.\n",
        "\n",
        "Each epoch consists of two main parts:\n",
        " - **The Train Loop** - iterate over the training dataset and try to converge to optimal parameters.\n",
        " - **The Validation/Test Loop** - iterate over the test dataset to check if model performance is improving.\n",
        "\n",
        "Let's briefly familiarize ourselves with some of the concepts used in the training loop. Jump ahead to\n",
        "see the `full-impl-label` of the optimization loop."
      ]
    },
    {
      "cell_type": "markdown",
      "id": "diagnostic-johnson",
      "metadata": {
        "id": "diagnostic-johnson"
      },
      "source": [
        "## Loss Function\n",
        "**Loss function** measures the degree of dissimilarity of obtained result to the target value,\n",
        "and it is the loss function that we want to minimize during training. To calculate the loss we make a\n",
        "prediction using the inputs of our given data sample and compare it against the true data label value.\n",
        "\n",
        "Common loss functions include [`nn.MSELoss`](https://pytorch.org/docs/stable/generated/torch.nn.MSELoss.html#torch.nn.MSELoss) (Mean Square Error) for regression tasks, and\n",
        "[`nn.NLLLoss`](https://pytorch.org/docs/stable/generated/torch.nn.NLLLoss.html#torch.nn.NLLLoss) (Negative Log Likelihood) for classification.\n",
        "[`nn.CrossEntropyLoss`](https://pytorch.org/docs/stable/generated/torch.nn.CrossEntropyLoss.html#torch.nn.CrossEntropyLoss) combines ``nn.LogSoftmax`` and ``nn.NLLLoss``.\n",
        "\n",
        "We pass our model's output logits to ``nn.CrossEntropyLoss``, which will normalize the logits and compute the prediction error."
      ]
    },
    {
      "cell_type": "code",
      "execution_count": 44,
      "id": "difficult-bikini",
      "metadata": {
        "id": "difficult-bikini"
      },
      "outputs": [],
      "source": [
        "# Initialize the loss function\n",
        "loss_fn = nn.CrossEntropyLoss()"
      ]
    },
    {
      "cell_type": "markdown",
      "id": "threatened-blood",
      "metadata": {
        "id": "threatened-blood"
      },
      "source": [
        "## Optimizer\n",
        "Optimization is the process of adjusting model parameters to reduce model error in each training step. **Optimization algorithms** define how this process is performed (in this example we use Stochastic Gradient Descent). All optimization logic is encapsulated in  the ``optimizer`` object.\n",
        "\n",
        "We initialize the optimizer by registering the model's parameters that need to be trained, and passing in the learning rate hyperparameter."
      ]
    },
    {
      "cell_type": "code",
      "execution_count": 45,
      "id": "banned-twenty",
      "metadata": {
        "id": "banned-twenty"
      },
      "outputs": [],
      "source": [
        "optimizer = torch.optim.SGD(model.parameters(), lr=learning_rate)"
      ]
    },
    {
      "cell_type": "markdown",
      "id": "angry-buffalo",
      "metadata": {
        "id": "angry-buffalo"
      },
      "source": [
        "## Full Implementation - Train Loop\n",
        "We define `train_loop` that loops over our optimization code"
      ]
    },
    {
      "cell_type": "code",
      "execution_count": 46,
      "id": "global-obligation",
      "metadata": {
        "id": "global-obligation"
      },
      "outputs": [],
      "source": [
        "def train_loop(dataloader, model, loss_fn, optimizer):\n",
        "    size = len(dataloader.dataset)\n",
        "    for batch, (X, y) in enumerate(dataloader):\n",
        "        # Compute prediction and loss\n",
        "        pred = model(X)\n",
        "        loss = loss_fn(pred, y)\n",
        "\n",
        "        # Backpropagation\n",
        "        optimizer.zero_grad()\n",
        "        loss.backward()\n",
        "        optimizer.step()\n",
        "\n",
        "        if batch % 100 == 0:\n",
        "            loss, current = loss.item(), batch * len(X)\n",
        "            print(f\"loss: {loss:>7f}  [{current:>5d}/{size:>5d}]\")"
      ]
    },
    {
      "cell_type": "markdown",
      "id": "exotic-catering",
      "metadata": {
        "id": "exotic-catering"
      },
      "source": [
        "## Full Implementation - Train Loop\n",
        "`test_loop` evaluates the model’s performance against our test data."
      ]
    },
    {
      "cell_type": "code",
      "execution_count": 47,
      "id": "further-provincial",
      "metadata": {
        "id": "further-provincial"
      },
      "outputs": [],
      "source": [
        "def test_loop(dataloader, model, loss_fn):\n",
        "    size = len(dataloader.dataset)\n",
        "    num_batches = len(dataloader)\n",
        "    test_loss, correct = 0, 0\n",
        "\n",
        "    with torch.no_grad():\n",
        "        for X, y in dataloader:\n",
        "            pred = model(X)\n",
        "            test_loss += loss_fn(pred, y).item()\n",
        "            correct += (pred.argmax(1) == y).type(torch.float).sum().item()\n",
        "\n",
        "    test_loss /= num_batches\n",
        "    correct /= size\n",
        "    print(f\"Test Error: \\nAccuracy: {(100*correct):>0.1f}%, Avg loss: {test_loss:>8f} \\n\")"
      ]
    },
    {
      "cell_type": "markdown",
      "id": "exact-result",
      "metadata": {
        "id": "exact-result"
      },
      "source": [
        "We initialize the loss function and optimizer, and pass it to train_loop and test_loop. Feel free to increase the number of epochs to track the model's improving performance."
      ]
    },
    {
      "cell_type": "code",
      "execution_count": 48,
      "id": "aware-official",
      "metadata": {
        "id": "aware-official",
        "colab": {
          "base_uri": "https://localhost:8080/"
        },
        "outputId": "d69e6005-e7b2-42e6-9b0d-39b0098cc47e"
      },
      "outputs": [
        {
          "output_type": "stream",
          "name": "stdout",
          "text": [
            "Epoch 1\n",
            "-------------------------------\n",
            "loss: 2.302972  [    0/60000]\n",
            "loss: 2.292199  [ 6400/60000]\n",
            "loss: 2.293633  [12800/60000]\n",
            "loss: 2.284762  [19200/60000]\n",
            "loss: 2.279941  [25600/60000]\n",
            "loss: 2.280475  [32000/60000]\n",
            "loss: 2.272435  [38400/60000]\n",
            "loss: 2.271785  [44800/60000]\n",
            "loss: 2.262483  [51200/60000]\n",
            "loss: 2.260143  [57600/60000]\n",
            "Test Error: \n",
            "Accuracy: 31.9%, Avg loss: 2.253623 \n",
            "\n",
            "Epoch 2\n",
            "-------------------------------\n",
            "loss: 2.255811  [    0/60000]\n",
            "loss: 2.252348  [ 6400/60000]\n",
            "loss: 2.258538  [12800/60000]\n",
            "loss: 2.244845  [19200/60000]\n",
            "loss: 2.216918  [25600/60000]\n",
            "loss: 2.221076  [32000/60000]\n",
            "loss: 2.210495  [38400/60000]\n",
            "loss: 2.191353  [44800/60000]\n",
            "loss: 2.218381  [51200/60000]\n",
            "loss: 2.172002  [57600/60000]\n",
            "Test Error: \n",
            "Accuracy: 60.7%, Avg loss: 2.181162 \n",
            "\n",
            "Epoch 3\n",
            "-------------------------------\n",
            "loss: 2.195715  [    0/60000]\n",
            "loss: 2.155548  [ 6400/60000]\n",
            "loss: 2.155094  [12800/60000]\n",
            "loss: 2.140632  [19200/60000]\n",
            "loss: 2.140687  [25600/60000]\n",
            "loss: 2.126991  [32000/60000]\n",
            "loss: 2.121078  [38400/60000]\n",
            "loss: 2.065163  [44800/60000]\n",
            "loss: 2.071926  [51200/60000]\n",
            "loss: 2.050912  [57600/60000]\n",
            "Test Error: \n",
            "Accuracy: 65.6%, Avg loss: 2.049455 \n",
            "\n",
            "Epoch 4\n",
            "-------------------------------\n",
            "loss: 2.024505  [    0/60000]\n",
            "loss: 2.045586  [ 6400/60000]\n",
            "loss: 2.032828  [12800/60000]\n",
            "loss: 2.021572  [19200/60000]\n",
            "loss: 1.995557  [25600/60000]\n",
            "loss: 1.996893  [32000/60000]\n",
            "loss: 1.929773  [38400/60000]\n",
            "loss: 1.920523  [44800/60000]\n",
            "loss: 1.817912  [51200/60000]\n",
            "loss: 1.845015  [57600/60000]\n",
            "Test Error: \n",
            "Accuracy: 68.8%, Avg loss: 1.818595 \n",
            "\n",
            "Epoch 5\n",
            "-------------------------------\n",
            "loss: 1.785106  [    0/60000]\n",
            "loss: 1.796758  [ 6400/60000]\n",
            "loss: 1.769861  [12800/60000]\n",
            "loss: 1.804859  [19200/60000]\n",
            "loss: 1.736592  [25600/60000]\n",
            "loss: 1.650709  [32000/60000]\n",
            "loss: 1.646479  [38400/60000]\n",
            "loss: 1.603630  [44800/60000]\n",
            "loss: 1.577188  [51200/60000]\n",
            "loss: 1.538239  [57600/60000]\n",
            "Test Error: \n",
            "Accuracy: 72.2%, Avg loss: 1.486012 \n",
            "\n",
            "Done!\n"
          ]
        }
      ],
      "source": [
        "loss_fn = nn.CrossEntropyLoss()\n",
        "optimizer = torch.optim.SGD(model.parameters(), lr=learning_rate)\n",
        "\n",
        "epochs = 5\n",
        "\n",
        "for t in range(epochs):\n",
        "    print(f\"Epoch {t+1}\\n-------------------------------\")\n",
        "    train_loop(train_dataloader, model, loss_fn, optimizer)\n",
        "    test_loop(test_dataloader, model, loss_fn)\n",
        "\n",
        "assert epochs != 1, print(\"either there is an error in the code or epochs=1.\")\n",
        "print(\"Done!\")"
      ]
    },
    {
      "cell_type": "markdown",
      "id": "automated-cradle",
      "metadata": {
        "id": "automated-cradle"
      },
      "source": [
        "If the above cell does not run and gives an error then we have a bug somewhere in the code. Given the RuntimeError, look back at the code to correct the mistake and rerun the training cell. \n",
        "\n",
        "**Note**: when you locate and fix the error, make sure to rerun and correct any relevant cells that need to be updated. You don't need to rerun the entire notebook. "
      ]
    }
  ],
  "metadata": {
    "kernelspec": {
      "display_name": "Python 3 (ipykernel)",
      "language": "python",
      "name": "python3"
    },
    "language_info": {
      "codemirror_mode": {
        "name": "ipython",
        "version": 3
      },
      "file_extension": ".py",
      "mimetype": "text/x-python",
      "name": "python",
      "nbconvert_exporter": "python",
      "pygments_lexer": "ipython3",
      "version": "3.9.7"
    },
    "colab": {
      "name": "PytorchTutorial.ipynb",
      "provenance": [],
      "collapsed_sections": [
        "unlike-december"
      ]
    },
    "widgets": {
      "application/vnd.jupyter.widget-state+json": {
        "8c1448a2a2dd45b2838655f56cf095ab": {
          "model_module": "@jupyter-widgets/controls",
          "model_name": "HBoxModel",
          "model_module_version": "1.5.0",
          "state": {
            "_view_name": "HBoxView",
            "_dom_classes": [],
            "_model_name": "HBoxModel",
            "_view_module": "@jupyter-widgets/controls",
            "_model_module_version": "1.5.0",
            "_view_count": null,
            "_view_module_version": "1.5.0",
            "box_style": "",
            "layout": "IPY_MODEL_5333c0b0144240b39e33d43e2027763b",
            "_model_module": "@jupyter-widgets/controls",
            "children": [
              "IPY_MODEL_9195abff37a04149ad259ad47dc6ebd2",
              "IPY_MODEL_7160712a45044d76afd9a9b506147229",
              "IPY_MODEL_f6e663af8d7947e3add741b9a162ceee"
            ]
          }
        },
        "5333c0b0144240b39e33d43e2027763b": {
          "model_module": "@jupyter-widgets/base",
          "model_name": "LayoutModel",
          "model_module_version": "1.2.0",
          "state": {
            "_view_name": "LayoutView",
            "grid_template_rows": null,
            "right": null,
            "justify_content": null,
            "_view_module": "@jupyter-widgets/base",
            "overflow": null,
            "_model_module_version": "1.2.0",
            "_view_count": null,
            "flex_flow": null,
            "width": null,
            "min_width": null,
            "border": null,
            "align_items": null,
            "bottom": null,
            "_model_module": "@jupyter-widgets/base",
            "top": null,
            "grid_column": null,
            "overflow_y": null,
            "overflow_x": null,
            "grid_auto_flow": null,
            "grid_area": null,
            "grid_template_columns": null,
            "flex": null,
            "_model_name": "LayoutModel",
            "justify_items": null,
            "grid_row": null,
            "max_height": null,
            "align_content": null,
            "visibility": null,
            "align_self": null,
            "height": null,
            "min_height": null,
            "padding": null,
            "grid_auto_rows": null,
            "grid_gap": null,
            "max_width": null,
            "order": null,
            "_view_module_version": "1.2.0",
            "grid_template_areas": null,
            "object_position": null,
            "object_fit": null,
            "grid_auto_columns": null,
            "margin": null,
            "display": null,
            "left": null
          }
        },
        "9195abff37a04149ad259ad47dc6ebd2": {
          "model_module": "@jupyter-widgets/controls",
          "model_name": "HTMLModel",
          "model_module_version": "1.5.0",
          "state": {
            "_view_name": "HTMLView",
            "style": "IPY_MODEL_3750579814f54e8a87b0124936690d13",
            "_dom_classes": [],
            "description": "",
            "_model_name": "HTMLModel",
            "placeholder": "​",
            "_view_module": "@jupyter-widgets/controls",
            "_model_module_version": "1.5.0",
            "value": "",
            "_view_count": null,
            "_view_module_version": "1.5.0",
            "description_tooltip": null,
            "_model_module": "@jupyter-widgets/controls",
            "layout": "IPY_MODEL_12854a13ba9a4db7bd4ca791f164f698"
          }
        },
        "7160712a45044d76afd9a9b506147229": {
          "model_module": "@jupyter-widgets/controls",
          "model_name": "FloatProgressModel",
          "model_module_version": "1.5.0",
          "state": {
            "_view_name": "ProgressView",
            "style": "IPY_MODEL_485f984962134127aefe75cd2fa70e50",
            "_dom_classes": [],
            "description": "",
            "_model_name": "FloatProgressModel",
            "bar_style": "success",
            "max": 9912422,
            "_view_module": "@jupyter-widgets/controls",
            "_model_module_version": "1.5.0",
            "value": 9912422,
            "_view_count": null,
            "_view_module_version": "1.5.0",
            "orientation": "horizontal",
            "min": 0,
            "description_tooltip": null,
            "_model_module": "@jupyter-widgets/controls",
            "layout": "IPY_MODEL_960449adff254c8798b7885a7278134f"
          }
        },
        "f6e663af8d7947e3add741b9a162ceee": {
          "model_module": "@jupyter-widgets/controls",
          "model_name": "HTMLModel",
          "model_module_version": "1.5.0",
          "state": {
            "_view_name": "HTMLView",
            "style": "IPY_MODEL_41a727887e2c4dd3b6294f9ad371e126",
            "_dom_classes": [],
            "description": "",
            "_model_name": "HTMLModel",
            "placeholder": "​",
            "_view_module": "@jupyter-widgets/controls",
            "_model_module_version": "1.5.0",
            "value": " 9913344/? [00:00&lt;00:00, 10914965.62it/s]",
            "_view_count": null,
            "_view_module_version": "1.5.0",
            "description_tooltip": null,
            "_model_module": "@jupyter-widgets/controls",
            "layout": "IPY_MODEL_b68a567c23ce4dd0b2086c3b14193cfd"
          }
        },
        "3750579814f54e8a87b0124936690d13": {
          "model_module": "@jupyter-widgets/controls",
          "model_name": "DescriptionStyleModel",
          "model_module_version": "1.5.0",
          "state": {
            "_view_name": "StyleView",
            "_model_name": "DescriptionStyleModel",
            "description_width": "",
            "_view_module": "@jupyter-widgets/base",
            "_model_module_version": "1.5.0",
            "_view_count": null,
            "_view_module_version": "1.2.0",
            "_model_module": "@jupyter-widgets/controls"
          }
        },
        "12854a13ba9a4db7bd4ca791f164f698": {
          "model_module": "@jupyter-widgets/base",
          "model_name": "LayoutModel",
          "model_module_version": "1.2.0",
          "state": {
            "_view_name": "LayoutView",
            "grid_template_rows": null,
            "right": null,
            "justify_content": null,
            "_view_module": "@jupyter-widgets/base",
            "overflow": null,
            "_model_module_version": "1.2.0",
            "_view_count": null,
            "flex_flow": null,
            "width": null,
            "min_width": null,
            "border": null,
            "align_items": null,
            "bottom": null,
            "_model_module": "@jupyter-widgets/base",
            "top": null,
            "grid_column": null,
            "overflow_y": null,
            "overflow_x": null,
            "grid_auto_flow": null,
            "grid_area": null,
            "grid_template_columns": null,
            "flex": null,
            "_model_name": "LayoutModel",
            "justify_items": null,
            "grid_row": null,
            "max_height": null,
            "align_content": null,
            "visibility": null,
            "align_self": null,
            "height": null,
            "min_height": null,
            "padding": null,
            "grid_auto_rows": null,
            "grid_gap": null,
            "max_width": null,
            "order": null,
            "_view_module_version": "1.2.0",
            "grid_template_areas": null,
            "object_position": null,
            "object_fit": null,
            "grid_auto_columns": null,
            "margin": null,
            "display": null,
            "left": null
          }
        },
        "485f984962134127aefe75cd2fa70e50": {
          "model_module": "@jupyter-widgets/controls",
          "model_name": "ProgressStyleModel",
          "model_module_version": "1.5.0",
          "state": {
            "_view_name": "StyleView",
            "_model_name": "ProgressStyleModel",
            "description_width": "",
            "_view_module": "@jupyter-widgets/base",
            "_model_module_version": "1.5.0",
            "_view_count": null,
            "_view_module_version": "1.2.0",
            "bar_color": null,
            "_model_module": "@jupyter-widgets/controls"
          }
        },
        "960449adff254c8798b7885a7278134f": {
          "model_module": "@jupyter-widgets/base",
          "model_name": "LayoutModel",
          "model_module_version": "1.2.0",
          "state": {
            "_view_name": "LayoutView",
            "grid_template_rows": null,
            "right": null,
            "justify_content": null,
            "_view_module": "@jupyter-widgets/base",
            "overflow": null,
            "_model_module_version": "1.2.0",
            "_view_count": null,
            "flex_flow": null,
            "width": null,
            "min_width": null,
            "border": null,
            "align_items": null,
            "bottom": null,
            "_model_module": "@jupyter-widgets/base",
            "top": null,
            "grid_column": null,
            "overflow_y": null,
            "overflow_x": null,
            "grid_auto_flow": null,
            "grid_area": null,
            "grid_template_columns": null,
            "flex": null,
            "_model_name": "LayoutModel",
            "justify_items": null,
            "grid_row": null,
            "max_height": null,
            "align_content": null,
            "visibility": null,
            "align_self": null,
            "height": null,
            "min_height": null,
            "padding": null,
            "grid_auto_rows": null,
            "grid_gap": null,
            "max_width": null,
            "order": null,
            "_view_module_version": "1.2.0",
            "grid_template_areas": null,
            "object_position": null,
            "object_fit": null,
            "grid_auto_columns": null,
            "margin": null,
            "display": null,
            "left": null
          }
        },
        "41a727887e2c4dd3b6294f9ad371e126": {
          "model_module": "@jupyter-widgets/controls",
          "model_name": "DescriptionStyleModel",
          "model_module_version": "1.5.0",
          "state": {
            "_view_name": "StyleView",
            "_model_name": "DescriptionStyleModel",
            "description_width": "",
            "_view_module": "@jupyter-widgets/base",
            "_model_module_version": "1.5.0",
            "_view_count": null,
            "_view_module_version": "1.2.0",
            "_model_module": "@jupyter-widgets/controls"
          }
        },
        "b68a567c23ce4dd0b2086c3b14193cfd": {
          "model_module": "@jupyter-widgets/base",
          "model_name": "LayoutModel",
          "model_module_version": "1.2.0",
          "state": {
            "_view_name": "LayoutView",
            "grid_template_rows": null,
            "right": null,
            "justify_content": null,
            "_view_module": "@jupyter-widgets/base",
            "overflow": null,
            "_model_module_version": "1.2.0",
            "_view_count": null,
            "flex_flow": null,
            "width": null,
            "min_width": null,
            "border": null,
            "align_items": null,
            "bottom": null,
            "_model_module": "@jupyter-widgets/base",
            "top": null,
            "grid_column": null,
            "overflow_y": null,
            "overflow_x": null,
            "grid_auto_flow": null,
            "grid_area": null,
            "grid_template_columns": null,
            "flex": null,
            "_model_name": "LayoutModel",
            "justify_items": null,
            "grid_row": null,
            "max_height": null,
            "align_content": null,
            "visibility": null,
            "align_self": null,
            "height": null,
            "min_height": null,
            "padding": null,
            "grid_auto_rows": null,
            "grid_gap": null,
            "max_width": null,
            "order": null,
            "_view_module_version": "1.2.0",
            "grid_template_areas": null,
            "object_position": null,
            "object_fit": null,
            "grid_auto_columns": null,
            "margin": null,
            "display": null,
            "left": null
          }
        },
        "811e6dd8d5bf47c99bdd2d6a5e3a1754": {
          "model_module": "@jupyter-widgets/controls",
          "model_name": "HBoxModel",
          "model_module_version": "1.5.0",
          "state": {
            "_view_name": "HBoxView",
            "_dom_classes": [],
            "_model_name": "HBoxModel",
            "_view_module": "@jupyter-widgets/controls",
            "_model_module_version": "1.5.0",
            "_view_count": null,
            "_view_module_version": "1.5.0",
            "box_style": "",
            "layout": "IPY_MODEL_27aabb099c914e20a3cc77fbc010f517",
            "_model_module": "@jupyter-widgets/controls",
            "children": [
              "IPY_MODEL_db4785bf76494eff9b084a0877b2af84",
              "IPY_MODEL_4a4b369fab0a44ff8ad8f0fa95fdfc9b",
              "IPY_MODEL_11b209f737614c63a7f332a9ca2a6258"
            ]
          }
        },
        "27aabb099c914e20a3cc77fbc010f517": {
          "model_module": "@jupyter-widgets/base",
          "model_name": "LayoutModel",
          "model_module_version": "1.2.0",
          "state": {
            "_view_name": "LayoutView",
            "grid_template_rows": null,
            "right": null,
            "justify_content": null,
            "_view_module": "@jupyter-widgets/base",
            "overflow": null,
            "_model_module_version": "1.2.0",
            "_view_count": null,
            "flex_flow": null,
            "width": null,
            "min_width": null,
            "border": null,
            "align_items": null,
            "bottom": null,
            "_model_module": "@jupyter-widgets/base",
            "top": null,
            "grid_column": null,
            "overflow_y": null,
            "overflow_x": null,
            "grid_auto_flow": null,
            "grid_area": null,
            "grid_template_columns": null,
            "flex": null,
            "_model_name": "LayoutModel",
            "justify_items": null,
            "grid_row": null,
            "max_height": null,
            "align_content": null,
            "visibility": null,
            "align_self": null,
            "height": null,
            "min_height": null,
            "padding": null,
            "grid_auto_rows": null,
            "grid_gap": null,
            "max_width": null,
            "order": null,
            "_view_module_version": "1.2.0",
            "grid_template_areas": null,
            "object_position": null,
            "object_fit": null,
            "grid_auto_columns": null,
            "margin": null,
            "display": null,
            "left": null
          }
        },
        "db4785bf76494eff9b084a0877b2af84": {
          "model_module": "@jupyter-widgets/controls",
          "model_name": "HTMLModel",
          "model_module_version": "1.5.0",
          "state": {
            "_view_name": "HTMLView",
            "style": "IPY_MODEL_b804119ea4ed4de4ab64131718dcd00a",
            "_dom_classes": [],
            "description": "",
            "_model_name": "HTMLModel",
            "placeholder": "​",
            "_view_module": "@jupyter-widgets/controls",
            "_model_module_version": "1.5.0",
            "value": "",
            "_view_count": null,
            "_view_module_version": "1.5.0",
            "description_tooltip": null,
            "_model_module": "@jupyter-widgets/controls",
            "layout": "IPY_MODEL_0641e7d7a05247b88433b80d0d8ef1cd"
          }
        },
        "4a4b369fab0a44ff8ad8f0fa95fdfc9b": {
          "model_module": "@jupyter-widgets/controls",
          "model_name": "FloatProgressModel",
          "model_module_version": "1.5.0",
          "state": {
            "_view_name": "ProgressView",
            "style": "IPY_MODEL_a3aaf61d48204db889f243a7019154db",
            "_dom_classes": [],
            "description": "",
            "_model_name": "FloatProgressModel",
            "bar_style": "success",
            "max": 28881,
            "_view_module": "@jupyter-widgets/controls",
            "_model_module_version": "1.5.0",
            "value": 28881,
            "_view_count": null,
            "_view_module_version": "1.5.0",
            "orientation": "horizontal",
            "min": 0,
            "description_tooltip": null,
            "_model_module": "@jupyter-widgets/controls",
            "layout": "IPY_MODEL_77c4e4a1db004fa1ba909b03ef0938b9"
          }
        },
        "11b209f737614c63a7f332a9ca2a6258": {
          "model_module": "@jupyter-widgets/controls",
          "model_name": "HTMLModel",
          "model_module_version": "1.5.0",
          "state": {
            "_view_name": "HTMLView",
            "style": "IPY_MODEL_23676ddcac93484981eb970aad6df825",
            "_dom_classes": [],
            "description": "",
            "_model_name": "HTMLModel",
            "placeholder": "​",
            "_view_module": "@jupyter-widgets/controls",
            "_model_module_version": "1.5.0",
            "value": " 29696/? [00:00&lt;00:00, 802720.02it/s]",
            "_view_count": null,
            "_view_module_version": "1.5.0",
            "description_tooltip": null,
            "_model_module": "@jupyter-widgets/controls",
            "layout": "IPY_MODEL_dcc93ce9e5dd4fe0aef5387f39a30ffa"
          }
        },
        "b804119ea4ed4de4ab64131718dcd00a": {
          "model_module": "@jupyter-widgets/controls",
          "model_name": "DescriptionStyleModel",
          "model_module_version": "1.5.0",
          "state": {
            "_view_name": "StyleView",
            "_model_name": "DescriptionStyleModel",
            "description_width": "",
            "_view_module": "@jupyter-widgets/base",
            "_model_module_version": "1.5.0",
            "_view_count": null,
            "_view_module_version": "1.2.0",
            "_model_module": "@jupyter-widgets/controls"
          }
        },
        "0641e7d7a05247b88433b80d0d8ef1cd": {
          "model_module": "@jupyter-widgets/base",
          "model_name": "LayoutModel",
          "model_module_version": "1.2.0",
          "state": {
            "_view_name": "LayoutView",
            "grid_template_rows": null,
            "right": null,
            "justify_content": null,
            "_view_module": "@jupyter-widgets/base",
            "overflow": null,
            "_model_module_version": "1.2.0",
            "_view_count": null,
            "flex_flow": null,
            "width": null,
            "min_width": null,
            "border": null,
            "align_items": null,
            "bottom": null,
            "_model_module": "@jupyter-widgets/base",
            "top": null,
            "grid_column": null,
            "overflow_y": null,
            "overflow_x": null,
            "grid_auto_flow": null,
            "grid_area": null,
            "grid_template_columns": null,
            "flex": null,
            "_model_name": "LayoutModel",
            "justify_items": null,
            "grid_row": null,
            "max_height": null,
            "align_content": null,
            "visibility": null,
            "align_self": null,
            "height": null,
            "min_height": null,
            "padding": null,
            "grid_auto_rows": null,
            "grid_gap": null,
            "max_width": null,
            "order": null,
            "_view_module_version": "1.2.0",
            "grid_template_areas": null,
            "object_position": null,
            "object_fit": null,
            "grid_auto_columns": null,
            "margin": null,
            "display": null,
            "left": null
          }
        },
        "a3aaf61d48204db889f243a7019154db": {
          "model_module": "@jupyter-widgets/controls",
          "model_name": "ProgressStyleModel",
          "model_module_version": "1.5.0",
          "state": {
            "_view_name": "StyleView",
            "_model_name": "ProgressStyleModel",
            "description_width": "",
            "_view_module": "@jupyter-widgets/base",
            "_model_module_version": "1.5.0",
            "_view_count": null,
            "_view_module_version": "1.2.0",
            "bar_color": null,
            "_model_module": "@jupyter-widgets/controls"
          }
        },
        "77c4e4a1db004fa1ba909b03ef0938b9": {
          "model_module": "@jupyter-widgets/base",
          "model_name": "LayoutModel",
          "model_module_version": "1.2.0",
          "state": {
            "_view_name": "LayoutView",
            "grid_template_rows": null,
            "right": null,
            "justify_content": null,
            "_view_module": "@jupyter-widgets/base",
            "overflow": null,
            "_model_module_version": "1.2.0",
            "_view_count": null,
            "flex_flow": null,
            "width": null,
            "min_width": null,
            "border": null,
            "align_items": null,
            "bottom": null,
            "_model_module": "@jupyter-widgets/base",
            "top": null,
            "grid_column": null,
            "overflow_y": null,
            "overflow_x": null,
            "grid_auto_flow": null,
            "grid_area": null,
            "grid_template_columns": null,
            "flex": null,
            "_model_name": "LayoutModel",
            "justify_items": null,
            "grid_row": null,
            "max_height": null,
            "align_content": null,
            "visibility": null,
            "align_self": null,
            "height": null,
            "min_height": null,
            "padding": null,
            "grid_auto_rows": null,
            "grid_gap": null,
            "max_width": null,
            "order": null,
            "_view_module_version": "1.2.0",
            "grid_template_areas": null,
            "object_position": null,
            "object_fit": null,
            "grid_auto_columns": null,
            "margin": null,
            "display": null,
            "left": null
          }
        },
        "23676ddcac93484981eb970aad6df825": {
          "model_module": "@jupyter-widgets/controls",
          "model_name": "DescriptionStyleModel",
          "model_module_version": "1.5.0",
          "state": {
            "_view_name": "StyleView",
            "_model_name": "DescriptionStyleModel",
            "description_width": "",
            "_view_module": "@jupyter-widgets/base",
            "_model_module_version": "1.5.0",
            "_view_count": null,
            "_view_module_version": "1.2.0",
            "_model_module": "@jupyter-widgets/controls"
          }
        },
        "dcc93ce9e5dd4fe0aef5387f39a30ffa": {
          "model_module": "@jupyter-widgets/base",
          "model_name": "LayoutModel",
          "model_module_version": "1.2.0",
          "state": {
            "_view_name": "LayoutView",
            "grid_template_rows": null,
            "right": null,
            "justify_content": null,
            "_view_module": "@jupyter-widgets/base",
            "overflow": null,
            "_model_module_version": "1.2.0",
            "_view_count": null,
            "flex_flow": null,
            "width": null,
            "min_width": null,
            "border": null,
            "align_items": null,
            "bottom": null,
            "_model_module": "@jupyter-widgets/base",
            "top": null,
            "grid_column": null,
            "overflow_y": null,
            "overflow_x": null,
            "grid_auto_flow": null,
            "grid_area": null,
            "grid_template_columns": null,
            "flex": null,
            "_model_name": "LayoutModel",
            "justify_items": null,
            "grid_row": null,
            "max_height": null,
            "align_content": null,
            "visibility": null,
            "align_self": null,
            "height": null,
            "min_height": null,
            "padding": null,
            "grid_auto_rows": null,
            "grid_gap": null,
            "max_width": null,
            "order": null,
            "_view_module_version": "1.2.0",
            "grid_template_areas": null,
            "object_position": null,
            "object_fit": null,
            "grid_auto_columns": null,
            "margin": null,
            "display": null,
            "left": null
          }
        },
        "79a4e44509ca4b259667662a4efacc27": {
          "model_module": "@jupyter-widgets/controls",
          "model_name": "HBoxModel",
          "model_module_version": "1.5.0",
          "state": {
            "_view_name": "HBoxView",
            "_dom_classes": [],
            "_model_name": "HBoxModel",
            "_view_module": "@jupyter-widgets/controls",
            "_model_module_version": "1.5.0",
            "_view_count": null,
            "_view_module_version": "1.5.0",
            "box_style": "",
            "layout": "IPY_MODEL_f8f8ee13b278444aa72c73b401926f3a",
            "_model_module": "@jupyter-widgets/controls",
            "children": [
              "IPY_MODEL_d52fccd28fd441e5bd2f40f6ac7f3fdb",
              "IPY_MODEL_45b764619c1849fe9e98bafb48475fe1",
              "IPY_MODEL_1628f101fab94cedbd63fd8547b4d182"
            ]
          }
        },
        "f8f8ee13b278444aa72c73b401926f3a": {
          "model_module": "@jupyter-widgets/base",
          "model_name": "LayoutModel",
          "model_module_version": "1.2.0",
          "state": {
            "_view_name": "LayoutView",
            "grid_template_rows": null,
            "right": null,
            "justify_content": null,
            "_view_module": "@jupyter-widgets/base",
            "overflow": null,
            "_model_module_version": "1.2.0",
            "_view_count": null,
            "flex_flow": null,
            "width": null,
            "min_width": null,
            "border": null,
            "align_items": null,
            "bottom": null,
            "_model_module": "@jupyter-widgets/base",
            "top": null,
            "grid_column": null,
            "overflow_y": null,
            "overflow_x": null,
            "grid_auto_flow": null,
            "grid_area": null,
            "grid_template_columns": null,
            "flex": null,
            "_model_name": "LayoutModel",
            "justify_items": null,
            "grid_row": null,
            "max_height": null,
            "align_content": null,
            "visibility": null,
            "align_self": null,
            "height": null,
            "min_height": null,
            "padding": null,
            "grid_auto_rows": null,
            "grid_gap": null,
            "max_width": null,
            "order": null,
            "_view_module_version": "1.2.0",
            "grid_template_areas": null,
            "object_position": null,
            "object_fit": null,
            "grid_auto_columns": null,
            "margin": null,
            "display": null,
            "left": null
          }
        },
        "d52fccd28fd441e5bd2f40f6ac7f3fdb": {
          "model_module": "@jupyter-widgets/controls",
          "model_name": "HTMLModel",
          "model_module_version": "1.5.0",
          "state": {
            "_view_name": "HTMLView",
            "style": "IPY_MODEL_a75e2fc096154f69b546a57da0273e0f",
            "_dom_classes": [],
            "description": "",
            "_model_name": "HTMLModel",
            "placeholder": "​",
            "_view_module": "@jupyter-widgets/controls",
            "_model_module_version": "1.5.0",
            "value": "",
            "_view_count": null,
            "_view_module_version": "1.5.0",
            "description_tooltip": null,
            "_model_module": "@jupyter-widgets/controls",
            "layout": "IPY_MODEL_f9bc9e369a684657922ab2a32ccf580a"
          }
        },
        "45b764619c1849fe9e98bafb48475fe1": {
          "model_module": "@jupyter-widgets/controls",
          "model_name": "FloatProgressModel",
          "model_module_version": "1.5.0",
          "state": {
            "_view_name": "ProgressView",
            "style": "IPY_MODEL_5188d524e6664267b73c19d315ea97e8",
            "_dom_classes": [],
            "description": "",
            "_model_name": "FloatProgressModel",
            "bar_style": "success",
            "max": 1648877,
            "_view_module": "@jupyter-widgets/controls",
            "_model_module_version": "1.5.0",
            "value": 1648877,
            "_view_count": null,
            "_view_module_version": "1.5.0",
            "orientation": "horizontal",
            "min": 0,
            "description_tooltip": null,
            "_model_module": "@jupyter-widgets/controls",
            "layout": "IPY_MODEL_6bf5a46a305241fd83950db9744dd3ed"
          }
        },
        "1628f101fab94cedbd63fd8547b4d182": {
          "model_module": "@jupyter-widgets/controls",
          "model_name": "HTMLModel",
          "model_module_version": "1.5.0",
          "state": {
            "_view_name": "HTMLView",
            "style": "IPY_MODEL_339b3baf1fcc4e9c81cb55e9c9cf5f8a",
            "_dom_classes": [],
            "description": "",
            "_model_name": "HTMLModel",
            "placeholder": "​",
            "_view_module": "@jupyter-widgets/controls",
            "_model_module_version": "1.5.0",
            "value": " 1649664/? [00:00&lt;00:00, 16549290.87it/s]",
            "_view_count": null,
            "_view_module_version": "1.5.0",
            "description_tooltip": null,
            "_model_module": "@jupyter-widgets/controls",
            "layout": "IPY_MODEL_db16e293ba46461c8f65742a825b37ba"
          }
        },
        "a75e2fc096154f69b546a57da0273e0f": {
          "model_module": "@jupyter-widgets/controls",
          "model_name": "DescriptionStyleModel",
          "model_module_version": "1.5.0",
          "state": {
            "_view_name": "StyleView",
            "_model_name": "DescriptionStyleModel",
            "description_width": "",
            "_view_module": "@jupyter-widgets/base",
            "_model_module_version": "1.5.0",
            "_view_count": null,
            "_view_module_version": "1.2.0",
            "_model_module": "@jupyter-widgets/controls"
          }
        },
        "f9bc9e369a684657922ab2a32ccf580a": {
          "model_module": "@jupyter-widgets/base",
          "model_name": "LayoutModel",
          "model_module_version": "1.2.0",
          "state": {
            "_view_name": "LayoutView",
            "grid_template_rows": null,
            "right": null,
            "justify_content": null,
            "_view_module": "@jupyter-widgets/base",
            "overflow": null,
            "_model_module_version": "1.2.0",
            "_view_count": null,
            "flex_flow": null,
            "width": null,
            "min_width": null,
            "border": null,
            "align_items": null,
            "bottom": null,
            "_model_module": "@jupyter-widgets/base",
            "top": null,
            "grid_column": null,
            "overflow_y": null,
            "overflow_x": null,
            "grid_auto_flow": null,
            "grid_area": null,
            "grid_template_columns": null,
            "flex": null,
            "_model_name": "LayoutModel",
            "justify_items": null,
            "grid_row": null,
            "max_height": null,
            "align_content": null,
            "visibility": null,
            "align_self": null,
            "height": null,
            "min_height": null,
            "padding": null,
            "grid_auto_rows": null,
            "grid_gap": null,
            "max_width": null,
            "order": null,
            "_view_module_version": "1.2.0",
            "grid_template_areas": null,
            "object_position": null,
            "object_fit": null,
            "grid_auto_columns": null,
            "margin": null,
            "display": null,
            "left": null
          }
        },
        "5188d524e6664267b73c19d315ea97e8": {
          "model_module": "@jupyter-widgets/controls",
          "model_name": "ProgressStyleModel",
          "model_module_version": "1.5.0",
          "state": {
            "_view_name": "StyleView",
            "_model_name": "ProgressStyleModel",
            "description_width": "",
            "_view_module": "@jupyter-widgets/base",
            "_model_module_version": "1.5.0",
            "_view_count": null,
            "_view_module_version": "1.2.0",
            "bar_color": null,
            "_model_module": "@jupyter-widgets/controls"
          }
        },
        "6bf5a46a305241fd83950db9744dd3ed": {
          "model_module": "@jupyter-widgets/base",
          "model_name": "LayoutModel",
          "model_module_version": "1.2.0",
          "state": {
            "_view_name": "LayoutView",
            "grid_template_rows": null,
            "right": null,
            "justify_content": null,
            "_view_module": "@jupyter-widgets/base",
            "overflow": null,
            "_model_module_version": "1.2.0",
            "_view_count": null,
            "flex_flow": null,
            "width": null,
            "min_width": null,
            "border": null,
            "align_items": null,
            "bottom": null,
            "_model_module": "@jupyter-widgets/base",
            "top": null,
            "grid_column": null,
            "overflow_y": null,
            "overflow_x": null,
            "grid_auto_flow": null,
            "grid_area": null,
            "grid_template_columns": null,
            "flex": null,
            "_model_name": "LayoutModel",
            "justify_items": null,
            "grid_row": null,
            "max_height": null,
            "align_content": null,
            "visibility": null,
            "align_self": null,
            "height": null,
            "min_height": null,
            "padding": null,
            "grid_auto_rows": null,
            "grid_gap": null,
            "max_width": null,
            "order": null,
            "_view_module_version": "1.2.0",
            "grid_template_areas": null,
            "object_position": null,
            "object_fit": null,
            "grid_auto_columns": null,
            "margin": null,
            "display": null,
            "left": null
          }
        },
        "339b3baf1fcc4e9c81cb55e9c9cf5f8a": {
          "model_module": "@jupyter-widgets/controls",
          "model_name": "DescriptionStyleModel",
          "model_module_version": "1.5.0",
          "state": {
            "_view_name": "StyleView",
            "_model_name": "DescriptionStyleModel",
            "description_width": "",
            "_view_module": "@jupyter-widgets/base",
            "_model_module_version": "1.5.0",
            "_view_count": null,
            "_view_module_version": "1.2.0",
            "_model_module": "@jupyter-widgets/controls"
          }
        },
        "db16e293ba46461c8f65742a825b37ba": {
          "model_module": "@jupyter-widgets/base",
          "model_name": "LayoutModel",
          "model_module_version": "1.2.0",
          "state": {
            "_view_name": "LayoutView",
            "grid_template_rows": null,
            "right": null,
            "justify_content": null,
            "_view_module": "@jupyter-widgets/base",
            "overflow": null,
            "_model_module_version": "1.2.0",
            "_view_count": null,
            "flex_flow": null,
            "width": null,
            "min_width": null,
            "border": null,
            "align_items": null,
            "bottom": null,
            "_model_module": "@jupyter-widgets/base",
            "top": null,
            "grid_column": null,
            "overflow_y": null,
            "overflow_x": null,
            "grid_auto_flow": null,
            "grid_area": null,
            "grid_template_columns": null,
            "flex": null,
            "_model_name": "LayoutModel",
            "justify_items": null,
            "grid_row": null,
            "max_height": null,
            "align_content": null,
            "visibility": null,
            "align_self": null,
            "height": null,
            "min_height": null,
            "padding": null,
            "grid_auto_rows": null,
            "grid_gap": null,
            "max_width": null,
            "order": null,
            "_view_module_version": "1.2.0",
            "grid_template_areas": null,
            "object_position": null,
            "object_fit": null,
            "grid_auto_columns": null,
            "margin": null,
            "display": null,
            "left": null
          }
        },
        "381f81718afa41d3a93dce7a4029cf10": {
          "model_module": "@jupyter-widgets/controls",
          "model_name": "HBoxModel",
          "model_module_version": "1.5.0",
          "state": {
            "_view_name": "HBoxView",
            "_dom_classes": [],
            "_model_name": "HBoxModel",
            "_view_module": "@jupyter-widgets/controls",
            "_model_module_version": "1.5.0",
            "_view_count": null,
            "_view_module_version": "1.5.0",
            "box_style": "",
            "layout": "IPY_MODEL_772628bd724b4a7ab919297e545e2a62",
            "_model_module": "@jupyter-widgets/controls",
            "children": [
              "IPY_MODEL_4d9da64b24ed437087ac14114f0fb8b5",
              "IPY_MODEL_a61c7d7d87aa4ddd8a214a322742c389",
              "IPY_MODEL_ee4102b092634d1a985b4a59dfbbc0ee"
            ]
          }
        },
        "772628bd724b4a7ab919297e545e2a62": {
          "model_module": "@jupyter-widgets/base",
          "model_name": "LayoutModel",
          "model_module_version": "1.2.0",
          "state": {
            "_view_name": "LayoutView",
            "grid_template_rows": null,
            "right": null,
            "justify_content": null,
            "_view_module": "@jupyter-widgets/base",
            "overflow": null,
            "_model_module_version": "1.2.0",
            "_view_count": null,
            "flex_flow": null,
            "width": null,
            "min_width": null,
            "border": null,
            "align_items": null,
            "bottom": null,
            "_model_module": "@jupyter-widgets/base",
            "top": null,
            "grid_column": null,
            "overflow_y": null,
            "overflow_x": null,
            "grid_auto_flow": null,
            "grid_area": null,
            "grid_template_columns": null,
            "flex": null,
            "_model_name": "LayoutModel",
            "justify_items": null,
            "grid_row": null,
            "max_height": null,
            "align_content": null,
            "visibility": null,
            "align_self": null,
            "height": null,
            "min_height": null,
            "padding": null,
            "grid_auto_rows": null,
            "grid_gap": null,
            "max_width": null,
            "order": null,
            "_view_module_version": "1.2.0",
            "grid_template_areas": null,
            "object_position": null,
            "object_fit": null,
            "grid_auto_columns": null,
            "margin": null,
            "display": null,
            "left": null
          }
        },
        "4d9da64b24ed437087ac14114f0fb8b5": {
          "model_module": "@jupyter-widgets/controls",
          "model_name": "HTMLModel",
          "model_module_version": "1.5.0",
          "state": {
            "_view_name": "HTMLView",
            "style": "IPY_MODEL_729e9098cc3a421995d371054978a63c",
            "_dom_classes": [],
            "description": "",
            "_model_name": "HTMLModel",
            "placeholder": "​",
            "_view_module": "@jupyter-widgets/controls",
            "_model_module_version": "1.5.0",
            "value": "",
            "_view_count": null,
            "_view_module_version": "1.5.0",
            "description_tooltip": null,
            "_model_module": "@jupyter-widgets/controls",
            "layout": "IPY_MODEL_7cb085bacea24a12bcd6179ca31d6d1d"
          }
        },
        "a61c7d7d87aa4ddd8a214a322742c389": {
          "model_module": "@jupyter-widgets/controls",
          "model_name": "FloatProgressModel",
          "model_module_version": "1.5.0",
          "state": {
            "_view_name": "ProgressView",
            "style": "IPY_MODEL_c64998ec8bf54b6a8b08c3c3b3d30978",
            "_dom_classes": [],
            "description": "",
            "_model_name": "FloatProgressModel",
            "bar_style": "success",
            "max": 4542,
            "_view_module": "@jupyter-widgets/controls",
            "_model_module_version": "1.5.0",
            "value": 4542,
            "_view_count": null,
            "_view_module_version": "1.5.0",
            "orientation": "horizontal",
            "min": 0,
            "description_tooltip": null,
            "_model_module": "@jupyter-widgets/controls",
            "layout": "IPY_MODEL_eca1dbbeede0490d827bc50040e0687a"
          }
        },
        "ee4102b092634d1a985b4a59dfbbc0ee": {
          "model_module": "@jupyter-widgets/controls",
          "model_name": "HTMLModel",
          "model_module_version": "1.5.0",
          "state": {
            "_view_name": "HTMLView",
            "style": "IPY_MODEL_e3b059d572f7408fa89c7fc0a79162af",
            "_dom_classes": [],
            "description": "",
            "_model_name": "HTMLModel",
            "placeholder": "​",
            "_view_module": "@jupyter-widgets/controls",
            "_model_module_version": "1.5.0",
            "value": " 5120/? [00:00&lt;00:00, 101188.05it/s]",
            "_view_count": null,
            "_view_module_version": "1.5.0",
            "description_tooltip": null,
            "_model_module": "@jupyter-widgets/controls",
            "layout": "IPY_MODEL_3edb3b2eccdd4e06a5fffc07b2783539"
          }
        },
        "729e9098cc3a421995d371054978a63c": {
          "model_module": "@jupyter-widgets/controls",
          "model_name": "DescriptionStyleModel",
          "model_module_version": "1.5.0",
          "state": {
            "_view_name": "StyleView",
            "_model_name": "DescriptionStyleModel",
            "description_width": "",
            "_view_module": "@jupyter-widgets/base",
            "_model_module_version": "1.5.0",
            "_view_count": null,
            "_view_module_version": "1.2.0",
            "_model_module": "@jupyter-widgets/controls"
          }
        },
        "7cb085bacea24a12bcd6179ca31d6d1d": {
          "model_module": "@jupyter-widgets/base",
          "model_name": "LayoutModel",
          "model_module_version": "1.2.0",
          "state": {
            "_view_name": "LayoutView",
            "grid_template_rows": null,
            "right": null,
            "justify_content": null,
            "_view_module": "@jupyter-widgets/base",
            "overflow": null,
            "_model_module_version": "1.2.0",
            "_view_count": null,
            "flex_flow": null,
            "width": null,
            "min_width": null,
            "border": null,
            "align_items": null,
            "bottom": null,
            "_model_module": "@jupyter-widgets/base",
            "top": null,
            "grid_column": null,
            "overflow_y": null,
            "overflow_x": null,
            "grid_auto_flow": null,
            "grid_area": null,
            "grid_template_columns": null,
            "flex": null,
            "_model_name": "LayoutModel",
            "justify_items": null,
            "grid_row": null,
            "max_height": null,
            "align_content": null,
            "visibility": null,
            "align_self": null,
            "height": null,
            "min_height": null,
            "padding": null,
            "grid_auto_rows": null,
            "grid_gap": null,
            "max_width": null,
            "order": null,
            "_view_module_version": "1.2.0",
            "grid_template_areas": null,
            "object_position": null,
            "object_fit": null,
            "grid_auto_columns": null,
            "margin": null,
            "display": null,
            "left": null
          }
        },
        "c64998ec8bf54b6a8b08c3c3b3d30978": {
          "model_module": "@jupyter-widgets/controls",
          "model_name": "ProgressStyleModel",
          "model_module_version": "1.5.0",
          "state": {
            "_view_name": "StyleView",
            "_model_name": "ProgressStyleModel",
            "description_width": "",
            "_view_module": "@jupyter-widgets/base",
            "_model_module_version": "1.5.0",
            "_view_count": null,
            "_view_module_version": "1.2.0",
            "bar_color": null,
            "_model_module": "@jupyter-widgets/controls"
          }
        },
        "eca1dbbeede0490d827bc50040e0687a": {
          "model_module": "@jupyter-widgets/base",
          "model_name": "LayoutModel",
          "model_module_version": "1.2.0",
          "state": {
            "_view_name": "LayoutView",
            "grid_template_rows": null,
            "right": null,
            "justify_content": null,
            "_view_module": "@jupyter-widgets/base",
            "overflow": null,
            "_model_module_version": "1.2.0",
            "_view_count": null,
            "flex_flow": null,
            "width": null,
            "min_width": null,
            "border": null,
            "align_items": null,
            "bottom": null,
            "_model_module": "@jupyter-widgets/base",
            "top": null,
            "grid_column": null,
            "overflow_y": null,
            "overflow_x": null,
            "grid_auto_flow": null,
            "grid_area": null,
            "grid_template_columns": null,
            "flex": null,
            "_model_name": "LayoutModel",
            "justify_items": null,
            "grid_row": null,
            "max_height": null,
            "align_content": null,
            "visibility": null,
            "align_self": null,
            "height": null,
            "min_height": null,
            "padding": null,
            "grid_auto_rows": null,
            "grid_gap": null,
            "max_width": null,
            "order": null,
            "_view_module_version": "1.2.0",
            "grid_template_areas": null,
            "object_position": null,
            "object_fit": null,
            "grid_auto_columns": null,
            "margin": null,
            "display": null,
            "left": null
          }
        },
        "e3b059d572f7408fa89c7fc0a79162af": {
          "model_module": "@jupyter-widgets/controls",
          "model_name": "DescriptionStyleModel",
          "model_module_version": "1.5.0",
          "state": {
            "_view_name": "StyleView",
            "_model_name": "DescriptionStyleModel",
            "description_width": "",
            "_view_module": "@jupyter-widgets/base",
            "_model_module_version": "1.5.0",
            "_view_count": null,
            "_view_module_version": "1.2.0",
            "_model_module": "@jupyter-widgets/controls"
          }
        },
        "3edb3b2eccdd4e06a5fffc07b2783539": {
          "model_module": "@jupyter-widgets/base",
          "model_name": "LayoutModel",
          "model_module_version": "1.2.0",
          "state": {
            "_view_name": "LayoutView",
            "grid_template_rows": null,
            "right": null,
            "justify_content": null,
            "_view_module": "@jupyter-widgets/base",
            "overflow": null,
            "_model_module_version": "1.2.0",
            "_view_count": null,
            "flex_flow": null,
            "width": null,
            "min_width": null,
            "border": null,
            "align_items": null,
            "bottom": null,
            "_model_module": "@jupyter-widgets/base",
            "top": null,
            "grid_column": null,
            "overflow_y": null,
            "overflow_x": null,
            "grid_auto_flow": null,
            "grid_area": null,
            "grid_template_columns": null,
            "flex": null,
            "_model_name": "LayoutModel",
            "justify_items": null,
            "grid_row": null,
            "max_height": null,
            "align_content": null,
            "visibility": null,
            "align_self": null,
            "height": null,
            "min_height": null,
            "padding": null,
            "grid_auto_rows": null,
            "grid_gap": null,
            "max_width": null,
            "order": null,
            "_view_module_version": "1.2.0",
            "grid_template_areas": null,
            "object_position": null,
            "object_fit": null,
            "grid_auto_columns": null,
            "margin": null,
            "display": null,
            "left": null
          }
        }
      }
    }
  },
  "nbformat": 4,
  "nbformat_minor": 5
}